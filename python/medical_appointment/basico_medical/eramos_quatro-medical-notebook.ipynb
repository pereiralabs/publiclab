{
 "cells": [
  {
   "cell_type": "code",
   "execution_count": 1,
   "metadata": {},
   "outputs": [],
   "source": [
    "%matplotlib inline"
   ]
  },
  {
   "cell_type": "code",
   "execution_count": 36,
   "metadata": {},
   "outputs": [],
   "source": [
    "#Imports necessarios\n",
    "import collections\n",
    "import itertools\n",
    "import numpy as np\n",
    "import pandas as pds\n",
    "import matplotlib.pyplot as plt\n",
    "\n",
    "from pandas import concat\n",
    "from sklearn import preprocessing\n",
    "from sklearn.metrics import accuracy_score, confusion_matrix"
   ]
  },
  {
   "cell_type": "code",
   "execution_count": 3,
   "metadata": {
    "scrolled": true
   },
   "outputs": [
    {
     "name": "stdout",
     "output_type": "stream",
     "text": [
      "(110527, 14)\n"
     ]
    },
    {
     "data": {
      "text/html": [
       "<div>\n",
       "<style scoped>\n",
       "    .dataframe tbody tr th:only-of-type {\n",
       "        vertical-align: middle;\n",
       "    }\n",
       "\n",
       "    .dataframe tbody tr th {\n",
       "        vertical-align: top;\n",
       "    }\n",
       "\n",
       "    .dataframe thead th {\n",
       "        text-align: right;\n",
       "    }\n",
       "</style>\n",
       "<table border=\"1\" class=\"dataframe\">\n",
       "  <thead>\n",
       "    <tr style=\"text-align: right;\">\n",
       "      <th></th>\n",
       "      <th>PatientId</th>\n",
       "      <th>AppointmentID</th>\n",
       "      <th>Gender</th>\n",
       "      <th>ScheduledDay</th>\n",
       "      <th>AppointmentDay</th>\n",
       "      <th>Age</th>\n",
       "      <th>Neighbourhood</th>\n",
       "      <th>Scholarship</th>\n",
       "      <th>Hipertension</th>\n",
       "      <th>Diabetes</th>\n",
       "      <th>Alcoholism</th>\n",
       "      <th>Handcap</th>\n",
       "      <th>SMS_received</th>\n",
       "      <th>No-show</th>\n",
       "    </tr>\n",
       "  </thead>\n",
       "  <tbody>\n",
       "    <tr>\n",
       "      <th>0</th>\n",
       "      <td>2.987250e+13</td>\n",
       "      <td>5642903</td>\n",
       "      <td>F</td>\n",
       "      <td>2016-04-29T18:38:08Z</td>\n",
       "      <td>2016-04-29T00:00:00Z</td>\n",
       "      <td>62</td>\n",
       "      <td>JARDIM DA PENHA</td>\n",
       "      <td>0</td>\n",
       "      <td>1</td>\n",
       "      <td>0</td>\n",
       "      <td>0</td>\n",
       "      <td>0</td>\n",
       "      <td>0</td>\n",
       "      <td>No</td>\n",
       "    </tr>\n",
       "    <tr>\n",
       "      <th>1</th>\n",
       "      <td>5.589978e+14</td>\n",
       "      <td>5642503</td>\n",
       "      <td>M</td>\n",
       "      <td>2016-04-29T16:08:27Z</td>\n",
       "      <td>2016-04-29T00:00:00Z</td>\n",
       "      <td>56</td>\n",
       "      <td>JARDIM DA PENHA</td>\n",
       "      <td>0</td>\n",
       "      <td>0</td>\n",
       "      <td>0</td>\n",
       "      <td>0</td>\n",
       "      <td>0</td>\n",
       "      <td>0</td>\n",
       "      <td>No</td>\n",
       "    </tr>\n",
       "    <tr>\n",
       "      <th>2</th>\n",
       "      <td>4.262962e+12</td>\n",
       "      <td>5642549</td>\n",
       "      <td>F</td>\n",
       "      <td>2016-04-29T16:19:04Z</td>\n",
       "      <td>2016-04-29T00:00:00Z</td>\n",
       "      <td>62</td>\n",
       "      <td>MATA DA PRAIA</td>\n",
       "      <td>0</td>\n",
       "      <td>0</td>\n",
       "      <td>0</td>\n",
       "      <td>0</td>\n",
       "      <td>0</td>\n",
       "      <td>0</td>\n",
       "      <td>No</td>\n",
       "    </tr>\n",
       "    <tr>\n",
       "      <th>3</th>\n",
       "      <td>8.679512e+11</td>\n",
       "      <td>5642828</td>\n",
       "      <td>F</td>\n",
       "      <td>2016-04-29T17:29:31Z</td>\n",
       "      <td>2016-04-29T00:00:00Z</td>\n",
       "      <td>8</td>\n",
       "      <td>PONTAL DE CAMBURI</td>\n",
       "      <td>0</td>\n",
       "      <td>0</td>\n",
       "      <td>0</td>\n",
       "      <td>0</td>\n",
       "      <td>0</td>\n",
       "      <td>0</td>\n",
       "      <td>No</td>\n",
       "    </tr>\n",
       "    <tr>\n",
       "      <th>4</th>\n",
       "      <td>8.841186e+12</td>\n",
       "      <td>5642494</td>\n",
       "      <td>F</td>\n",
       "      <td>2016-04-29T16:07:23Z</td>\n",
       "      <td>2016-04-29T00:00:00Z</td>\n",
       "      <td>56</td>\n",
       "      <td>JARDIM DA PENHA</td>\n",
       "      <td>0</td>\n",
       "      <td>1</td>\n",
       "      <td>1</td>\n",
       "      <td>0</td>\n",
       "      <td>0</td>\n",
       "      <td>0</td>\n",
       "      <td>No</td>\n",
       "    </tr>\n",
       "  </tbody>\n",
       "</table>\n",
       "</div>"
      ],
      "text/plain": [
       "      PatientId  AppointmentID Gender          ScheduledDay  \\\n",
       "0  2.987250e+13        5642903      F  2016-04-29T18:38:08Z   \n",
       "1  5.589978e+14        5642503      M  2016-04-29T16:08:27Z   \n",
       "2  4.262962e+12        5642549      F  2016-04-29T16:19:04Z   \n",
       "3  8.679512e+11        5642828      F  2016-04-29T17:29:31Z   \n",
       "4  8.841186e+12        5642494      F  2016-04-29T16:07:23Z   \n",
       "\n",
       "         AppointmentDay  Age      Neighbourhood  Scholarship  Hipertension  \\\n",
       "0  2016-04-29T00:00:00Z   62    JARDIM DA PENHA            0             1   \n",
       "1  2016-04-29T00:00:00Z   56    JARDIM DA PENHA            0             0   \n",
       "2  2016-04-29T00:00:00Z   62      MATA DA PRAIA            0             0   \n",
       "3  2016-04-29T00:00:00Z    8  PONTAL DE CAMBURI            0             0   \n",
       "4  2016-04-29T00:00:00Z   56    JARDIM DA PENHA            0             1   \n",
       "\n",
       "   Diabetes  Alcoholism  Handcap  SMS_received No-show  \n",
       "0         0           0        0             0      No  \n",
       "1         0           0        0             0      No  \n",
       "2         0           0        0             0      No  \n",
       "3         0           0        0             0      No  \n",
       "4         1           0        0             0      No  "
      ]
     },
     "execution_count": 3,
     "metadata": {},
     "output_type": "execute_result"
    }
   ],
   "source": [
    "#Load dos dados\n",
    "originalData = pds.read_csv('medical.csv')\n",
    "print(originalData.shape)\n",
    "originalData.head()"
   ]
  },
  {
   "cell_type": "code",
   "execution_count": 6,
   "metadata": {},
   "outputs": [],
   "source": [
    "def format_data_readable(df):\n",
    "    \"\"\"\n",
    "    Formata os dados para uma versão mais human readable\n",
    "    \n",
    "    Parameters:\n",
    "    -----------\n",
    "    df: `pandas.DataFrame`. Contains appointment data.\n",
    "    \n",
    "    Returns:\n",
    "    --------\n",
    "    formated_df: `pandas.DataFrame`. Contains appointment data in a more readable way.\n",
    "    \"\"\"\n",
    "    \n",
    "    #Verifica se o objeto passado é um pandas.DatafRame\n",
    "    assert isinstance(df, pds.DataFrame), \"Expected df to be a pandas DataFrame object. Got {}.\".format(type(df))\n",
    "    \n",
    "    #Formatacao de dataset para gráficos\n",
    "    formated_df = df.copy()\n",
    "    formated_df.SMS_received = formated_df.SMS_received.map({0: 'No SMS', 1: 'Sms Received'})\n",
    "    formated_df['No-show'] = formated_df['No-show'].map({'Yes': 'No Show', 'No': 'Show Up'})\n",
    "    \n",
    "    return formated_df"
   ]
  },
  {
   "cell_type": "code",
   "execution_count": 7,
   "metadata": {},
   "outputs": [
    {
     "data": {
      "text/html": [
       "<div>\n",
       "<style scoped>\n",
       "    .dataframe tbody tr th:only-of-type {\n",
       "        vertical-align: middle;\n",
       "    }\n",
       "\n",
       "    .dataframe tbody tr th {\n",
       "        vertical-align: top;\n",
       "    }\n",
       "\n",
       "    .dataframe thead th {\n",
       "        text-align: right;\n",
       "    }\n",
       "</style>\n",
       "<table border=\"1\" class=\"dataframe\">\n",
       "  <thead>\n",
       "    <tr style=\"text-align: right;\">\n",
       "      <th></th>\n",
       "      <th>PatientId</th>\n",
       "      <th>AppointmentID</th>\n",
       "      <th>Gender</th>\n",
       "      <th>ScheduledDay</th>\n",
       "      <th>AppointmentDay</th>\n",
       "      <th>Age</th>\n",
       "      <th>Neighbourhood</th>\n",
       "      <th>Scholarship</th>\n",
       "      <th>Hipertension</th>\n",
       "      <th>Diabetes</th>\n",
       "      <th>Alcoholism</th>\n",
       "      <th>Handcap</th>\n",
       "      <th>SMS_received</th>\n",
       "      <th>No-show</th>\n",
       "    </tr>\n",
       "  </thead>\n",
       "  <tbody>\n",
       "    <tr>\n",
       "      <th>0</th>\n",
       "      <td>2.987250e+13</td>\n",
       "      <td>5642903</td>\n",
       "      <td>F</td>\n",
       "      <td>2016-04-29T18:38:08Z</td>\n",
       "      <td>2016-04-29T00:00:00Z</td>\n",
       "      <td>62</td>\n",
       "      <td>JARDIM DA PENHA</td>\n",
       "      <td>0</td>\n",
       "      <td>1</td>\n",
       "      <td>0</td>\n",
       "      <td>0</td>\n",
       "      <td>0</td>\n",
       "      <td>No SMS</td>\n",
       "      <td>Show Up</td>\n",
       "    </tr>\n",
       "    <tr>\n",
       "      <th>1</th>\n",
       "      <td>5.589978e+14</td>\n",
       "      <td>5642503</td>\n",
       "      <td>M</td>\n",
       "      <td>2016-04-29T16:08:27Z</td>\n",
       "      <td>2016-04-29T00:00:00Z</td>\n",
       "      <td>56</td>\n",
       "      <td>JARDIM DA PENHA</td>\n",
       "      <td>0</td>\n",
       "      <td>0</td>\n",
       "      <td>0</td>\n",
       "      <td>0</td>\n",
       "      <td>0</td>\n",
       "      <td>No SMS</td>\n",
       "      <td>Show Up</td>\n",
       "    </tr>\n",
       "    <tr>\n",
       "      <th>2</th>\n",
       "      <td>4.262962e+12</td>\n",
       "      <td>5642549</td>\n",
       "      <td>F</td>\n",
       "      <td>2016-04-29T16:19:04Z</td>\n",
       "      <td>2016-04-29T00:00:00Z</td>\n",
       "      <td>62</td>\n",
       "      <td>MATA DA PRAIA</td>\n",
       "      <td>0</td>\n",
       "      <td>0</td>\n",
       "      <td>0</td>\n",
       "      <td>0</td>\n",
       "      <td>0</td>\n",
       "      <td>No SMS</td>\n",
       "      <td>Show Up</td>\n",
       "    </tr>\n",
       "    <tr>\n",
       "      <th>3</th>\n",
       "      <td>8.679512e+11</td>\n",
       "      <td>5642828</td>\n",
       "      <td>F</td>\n",
       "      <td>2016-04-29T17:29:31Z</td>\n",
       "      <td>2016-04-29T00:00:00Z</td>\n",
       "      <td>8</td>\n",
       "      <td>PONTAL DE CAMBURI</td>\n",
       "      <td>0</td>\n",
       "      <td>0</td>\n",
       "      <td>0</td>\n",
       "      <td>0</td>\n",
       "      <td>0</td>\n",
       "      <td>No SMS</td>\n",
       "      <td>Show Up</td>\n",
       "    </tr>\n",
       "    <tr>\n",
       "      <th>4</th>\n",
       "      <td>8.841186e+12</td>\n",
       "      <td>5642494</td>\n",
       "      <td>F</td>\n",
       "      <td>2016-04-29T16:07:23Z</td>\n",
       "      <td>2016-04-29T00:00:00Z</td>\n",
       "      <td>56</td>\n",
       "      <td>JARDIM DA PENHA</td>\n",
       "      <td>0</td>\n",
       "      <td>1</td>\n",
       "      <td>1</td>\n",
       "      <td>0</td>\n",
       "      <td>0</td>\n",
       "      <td>No SMS</td>\n",
       "      <td>Show Up</td>\n",
       "    </tr>\n",
       "  </tbody>\n",
       "</table>\n",
       "</div>"
      ],
      "text/plain": [
       "      PatientId  AppointmentID Gender          ScheduledDay  \\\n",
       "0  2.987250e+13        5642903      F  2016-04-29T18:38:08Z   \n",
       "1  5.589978e+14        5642503      M  2016-04-29T16:08:27Z   \n",
       "2  4.262962e+12        5642549      F  2016-04-29T16:19:04Z   \n",
       "3  8.679512e+11        5642828      F  2016-04-29T17:29:31Z   \n",
       "4  8.841186e+12        5642494      F  2016-04-29T16:07:23Z   \n",
       "\n",
       "         AppointmentDay  Age      Neighbourhood  Scholarship  Hipertension  \\\n",
       "0  2016-04-29T00:00:00Z   62    JARDIM DA PENHA            0             1   \n",
       "1  2016-04-29T00:00:00Z   56    JARDIM DA PENHA            0             0   \n",
       "2  2016-04-29T00:00:00Z   62      MATA DA PRAIA            0             0   \n",
       "3  2016-04-29T00:00:00Z    8  PONTAL DE CAMBURI            0             0   \n",
       "4  2016-04-29T00:00:00Z   56    JARDIM DA PENHA            0             1   \n",
       "\n",
       "   Diabetes  Alcoholism  Handcap SMS_received  No-show  \n",
       "0         0           0        0       No SMS  Show Up  \n",
       "1         0           0        0       No SMS  Show Up  \n",
       "2         0           0        0       No SMS  Show Up  \n",
       "3         0           0        0       No SMS  Show Up  \n",
       "4         1           0        0       No SMS  Show Up  "
      ]
     },
     "execution_count": 7,
     "metadata": {},
     "output_type": "execute_result"
    }
   ],
   "source": [
    "#Formatacao de dataset para gráficos\n",
    "analysisData = format_data_readable(originalData)\n",
    "analysisData.head()"
   ]
  },
  {
   "cell_type": "code",
   "execution_count": 10,
   "metadata": {},
   "outputs": [],
   "source": [
    "def categorical_to_numerical(df):\n",
    "    \"\"\"\n",
    "    Transforma features categóricas em numéricas\n",
    "    \n",
    "    Parameters:\n",
    "    -----------\n",
    "    df: `pandas.DataFrame`. Contains appointment data.\n",
    "    \n",
    "    Returns:\n",
    "    --------\n",
    "    formated_df: `pandas.DataFrame`. Contains appointment data with transformed categorical features.\n",
    "    \"\"\"\n",
    "    \n",
    "    #Verifica se o objeto passado é um pandas.DatafRame\n",
    "    assert isinstance(df, pds.DataFrame), \"Expected df to be a pandas DataFrame object. Got {}.\".format(type(df))\n",
    "    \n",
    "    #Mapeia features categóricas para valores numéricos\n",
    "    formated_df = df.copy()\n",
    "    formated_df['No-show'] = formated_df['No-show'].map({'Yes': '1', 'No': '0'})\n",
    "    formated_df['No-show'] = pds.to_numeric(formated_df['No-show'])\n",
    "    \n",
    "    return formated_df"
   ]
  },
  {
   "cell_type": "code",
   "execution_count": 11,
   "metadata": {},
   "outputs": [
    {
     "data": {
      "text/html": [
       "<div>\n",
       "<style scoped>\n",
       "    .dataframe tbody tr th:only-of-type {\n",
       "        vertical-align: middle;\n",
       "    }\n",
       "\n",
       "    .dataframe tbody tr th {\n",
       "        vertical-align: top;\n",
       "    }\n",
       "\n",
       "    .dataframe thead th {\n",
       "        text-align: right;\n",
       "    }\n",
       "</style>\n",
       "<table border=\"1\" class=\"dataframe\">\n",
       "  <thead>\n",
       "    <tr style=\"text-align: right;\">\n",
       "      <th></th>\n",
       "      <th>PatientId</th>\n",
       "      <th>AppointmentID</th>\n",
       "      <th>Age</th>\n",
       "      <th>Scholarship</th>\n",
       "      <th>Hipertension</th>\n",
       "      <th>Diabetes</th>\n",
       "      <th>Alcoholism</th>\n",
       "      <th>Handcap</th>\n",
       "      <th>SMS_received</th>\n",
       "      <th>No-show</th>\n",
       "    </tr>\n",
       "  </thead>\n",
       "  <tbody>\n",
       "    <tr>\n",
       "      <th>PatientId</th>\n",
       "      <td>1.000000</td>\n",
       "      <td>0.004039</td>\n",
       "      <td>-0.004139</td>\n",
       "      <td>-0.002880</td>\n",
       "      <td>-0.006441</td>\n",
       "      <td>0.001605</td>\n",
       "      <td>0.011011</td>\n",
       "      <td>-0.007916</td>\n",
       "      <td>-0.009749</td>\n",
       "      <td>-0.001461</td>\n",
       "    </tr>\n",
       "    <tr>\n",
       "      <th>AppointmentID</th>\n",
       "      <td>0.004039</td>\n",
       "      <td>1.000000</td>\n",
       "      <td>-0.019126</td>\n",
       "      <td>0.022615</td>\n",
       "      <td>0.012752</td>\n",
       "      <td>0.022628</td>\n",
       "      <td>0.032944</td>\n",
       "      <td>0.014106</td>\n",
       "      <td>-0.256618</td>\n",
       "      <td>-0.162602</td>\n",
       "    </tr>\n",
       "    <tr>\n",
       "      <th>Age</th>\n",
       "      <td>-0.004139</td>\n",
       "      <td>-0.019126</td>\n",
       "      <td>1.000000</td>\n",
       "      <td>-0.092457</td>\n",
       "      <td>0.504586</td>\n",
       "      <td>0.292391</td>\n",
       "      <td>0.095811</td>\n",
       "      <td>0.078033</td>\n",
       "      <td>0.012643</td>\n",
       "      <td>-0.060319</td>\n",
       "    </tr>\n",
       "    <tr>\n",
       "      <th>Scholarship</th>\n",
       "      <td>-0.002880</td>\n",
       "      <td>0.022615</td>\n",
       "      <td>-0.092457</td>\n",
       "      <td>1.000000</td>\n",
       "      <td>-0.019729</td>\n",
       "      <td>-0.024894</td>\n",
       "      <td>0.035022</td>\n",
       "      <td>-0.008586</td>\n",
       "      <td>0.001194</td>\n",
       "      <td>0.029135</td>\n",
       "    </tr>\n",
       "    <tr>\n",
       "      <th>Hipertension</th>\n",
       "      <td>-0.006441</td>\n",
       "      <td>0.012752</td>\n",
       "      <td>0.504586</td>\n",
       "      <td>-0.019729</td>\n",
       "      <td>1.000000</td>\n",
       "      <td>0.433086</td>\n",
       "      <td>0.087971</td>\n",
       "      <td>0.080083</td>\n",
       "      <td>-0.006267</td>\n",
       "      <td>-0.035701</td>\n",
       "    </tr>\n",
       "    <tr>\n",
       "      <th>Diabetes</th>\n",
       "      <td>0.001605</td>\n",
       "      <td>0.022628</td>\n",
       "      <td>0.292391</td>\n",
       "      <td>-0.024894</td>\n",
       "      <td>0.433086</td>\n",
       "      <td>1.000000</td>\n",
       "      <td>0.018474</td>\n",
       "      <td>0.057530</td>\n",
       "      <td>-0.014550</td>\n",
       "      <td>-0.015180</td>\n",
       "    </tr>\n",
       "    <tr>\n",
       "      <th>Alcoholism</th>\n",
       "      <td>0.011011</td>\n",
       "      <td>0.032944</td>\n",
       "      <td>0.095811</td>\n",
       "      <td>0.035022</td>\n",
       "      <td>0.087971</td>\n",
       "      <td>0.018474</td>\n",
       "      <td>1.000000</td>\n",
       "      <td>0.004648</td>\n",
       "      <td>-0.026147</td>\n",
       "      <td>-0.000196</td>\n",
       "    </tr>\n",
       "    <tr>\n",
       "      <th>Handcap</th>\n",
       "      <td>-0.007916</td>\n",
       "      <td>0.014106</td>\n",
       "      <td>0.078033</td>\n",
       "      <td>-0.008586</td>\n",
       "      <td>0.080083</td>\n",
       "      <td>0.057530</td>\n",
       "      <td>0.004648</td>\n",
       "      <td>1.000000</td>\n",
       "      <td>-0.024161</td>\n",
       "      <td>-0.006076</td>\n",
       "    </tr>\n",
       "    <tr>\n",
       "      <th>SMS_received</th>\n",
       "      <td>-0.009749</td>\n",
       "      <td>-0.256618</td>\n",
       "      <td>0.012643</td>\n",
       "      <td>0.001194</td>\n",
       "      <td>-0.006267</td>\n",
       "      <td>-0.014550</td>\n",
       "      <td>-0.026147</td>\n",
       "      <td>-0.024161</td>\n",
       "      <td>1.000000</td>\n",
       "      <td>0.126431</td>\n",
       "    </tr>\n",
       "    <tr>\n",
       "      <th>No-show</th>\n",
       "      <td>-0.001461</td>\n",
       "      <td>-0.162602</td>\n",
       "      <td>-0.060319</td>\n",
       "      <td>0.029135</td>\n",
       "      <td>-0.035701</td>\n",
       "      <td>-0.015180</td>\n",
       "      <td>-0.000196</td>\n",
       "      <td>-0.006076</td>\n",
       "      <td>0.126431</td>\n",
       "      <td>1.000000</td>\n",
       "    </tr>\n",
       "  </tbody>\n",
       "</table>\n",
       "</div>"
      ],
      "text/plain": [
       "               PatientId  AppointmentID       Age  Scholarship  Hipertension  \\\n",
       "PatientId       1.000000       0.004039 -0.004139    -0.002880     -0.006441   \n",
       "AppointmentID   0.004039       1.000000 -0.019126     0.022615      0.012752   \n",
       "Age            -0.004139      -0.019126  1.000000    -0.092457      0.504586   \n",
       "Scholarship    -0.002880       0.022615 -0.092457     1.000000     -0.019729   \n",
       "Hipertension   -0.006441       0.012752  0.504586    -0.019729      1.000000   \n",
       "Diabetes        0.001605       0.022628  0.292391    -0.024894      0.433086   \n",
       "Alcoholism      0.011011       0.032944  0.095811     0.035022      0.087971   \n",
       "Handcap        -0.007916       0.014106  0.078033    -0.008586      0.080083   \n",
       "SMS_received   -0.009749      -0.256618  0.012643     0.001194     -0.006267   \n",
       "No-show        -0.001461      -0.162602 -0.060319     0.029135     -0.035701   \n",
       "\n",
       "               Diabetes  Alcoholism   Handcap  SMS_received   No-show  \n",
       "PatientId      0.001605    0.011011 -0.007916     -0.009749 -0.001461  \n",
       "AppointmentID  0.022628    0.032944  0.014106     -0.256618 -0.162602  \n",
       "Age            0.292391    0.095811  0.078033      0.012643 -0.060319  \n",
       "Scholarship   -0.024894    0.035022 -0.008586      0.001194  0.029135  \n",
       "Hipertension   0.433086    0.087971  0.080083     -0.006267 -0.035701  \n",
       "Diabetes       1.000000    0.018474  0.057530     -0.014550 -0.015180  \n",
       "Alcoholism     0.018474    1.000000  0.004648     -0.026147 -0.000196  \n",
       "Handcap        0.057530    0.004648  1.000000     -0.024161 -0.006076  \n",
       "SMS_received  -0.014550   -0.026147 -0.024161      1.000000  0.126431  \n",
       "No-show       -0.015180   -0.000196 -0.006076      0.126431  1.000000  "
      ]
     },
     "execution_count": 11,
     "metadata": {},
     "output_type": "execute_result"
    }
   ],
   "source": [
    "#Correlação de atributos\n",
    "corrData = categorical_to_numerical(originalData)\n",
    "df_corr = corrData.corr()\n",
    "df_corr"
   ]
  },
  {
   "cell_type": "code",
   "execution_count": 26,
   "metadata": {
    "scrolled": true
   },
   "outputs": [
    {
     "data": {
      "text/plain": [
       "<matplotlib.axes._subplots.AxesSubplot at 0x7f5e92897550>"
      ]
     },
     "execution_count": 26,
     "metadata": {},
     "output_type": "execute_result"
    },
    {
     "data": {
      "image/png": "[encoded data removed]",
      "text/plain": [
       "<matplotlib.figure.Figure at 0x7f5e928b4438>"
      ]
     },
     "metadata": {},
     "output_type": "display_data"
    }
   ],
   "source": [
    "#Relacao de SMS vs Noshow\n",
    "analysisData.groupby(['SMS_received','No-show']).size().plot(kind='bar')"
   ]
  },
  {
   "cell_type": "code",
   "execution_count": 5,
   "metadata": {},
   "outputs": [
    {
     "data": {
      "text/plain": [
       "<matplotlib.axes._subplots.AxesSubplot at 0x2418d771978>"
      ]
     },
     "execution_count": 5,
     "metadata": {},
     "output_type": "execute_result"
    },
    {
     "data": {
      "image/png": "[encoded data removed]",
      "text/plain": [
       "<Figure size 432x288 with 1 Axes>"
      ]
     },
     "metadata": {},
     "output_type": "display_data"
    }
   ],
   "source": [
    "#Relacao de Scholarship vs Noshow\n",
    "analysisData.groupby(['Scholarship','No-show']).size().plot(kind='bar')"
   ]
  },
  {
   "cell_type": "code",
   "execution_count": 6,
   "metadata": {
    "scrolled": true
   },
   "outputs": [
    {
     "data": {
      "text/plain": [
       "<matplotlib.axes._subplots.AxesSubplot at 0x2418d816438>"
      ]
     },
     "execution_count": 6,
     "metadata": {},
     "output_type": "execute_result"
    },
    {
     "data": {
      "image/png": "[encoded data removed]",
      "text/plain": [
       "<Figure size 432x288 with 1 Axes>"
      ]
     },
     "metadata": {},
     "output_type": "display_data"
    }
   ],
   "source": [
    "#Relacao de Hipertension vs Noshow\n",
    "analysisData.groupby(['Hipertension','No-show']).size().plot(kind='bar')"
   ]
  },
  {
   "cell_type": "code",
   "execution_count": 7,
   "metadata": {
    "scrolled": true
   },
   "outputs": [
    {
     "data": {
      "text/plain": [
       "<matplotlib.axes._subplots.AxesSubplot at 0x2418d7dc710>"
      ]
     },
     "execution_count": 7,
     "metadata": {},
     "output_type": "execute_result"
    },
    {
     "data": {
      "image/png": "[encoded data removed]",
      "text/plain": [
       "<Figure size 432x288 with 1 Axes>"
      ]
     },
     "metadata": {},
     "output_type": "display_data"
    }
   ],
   "source": [
    "#Relacao de Diabetes vs Noshow\n",
    "analysisData.groupby(['Diabetes','No-show']).size().plot(kind='bar')"
   ]
  },
  {
   "cell_type": "code",
   "execution_count": 13,
   "metadata": {},
   "outputs": [],
   "source": [
    "def feature_engineering(df):\n",
    "    \"\"\"Realiza transformações nos dados para criação das features do modelo\n",
    "    \n",
    "    Parameters:\n",
    "    -----------\n",
    "    df: `pandas.DataFrame`. Contém os dados de medical appointments.\n",
    "    \n",
    "    Returns:\n",
    "    --------\n",
    "    formatted_df: `pandas.DataFrame`. Contém as features para o modelo.\n",
    "    \"\"\"\n",
    "    \n",
    "    #Drop dos IDS\n",
    "    formatted_df = df.copy()\n",
    "    formatted_df = formatted_df.drop('PatientId',1)\n",
    "    formatted_df = formatted_df.drop('AppointmentID',1)\n",
    "\n",
    "    #Renomeando a coluna No-show\n",
    "    formatted_df.rename(columns={'No-show':'Noshow'}, inplace=True)\n",
    "\n",
    "    #Transformacao dos dados\n",
    "    formatted_df.Noshow = formatted_df.Noshow.map({'Yes': 1, 'No': 0})\n",
    "    formatted_df.Gender = formatted_df.Gender.map({'F': 1, 'M': 0})\n",
    "    formatted_df.Age = pds.to_numeric(formatted_df.Age)\n",
    "    formatted_df.Neighbourhood = formatted_df.Neighbourhood.astype(\"category\").cat.codes\n",
    "\n",
    "    #Construcao de novas colunas\n",
    "    formatted_df['SchMonth'] = formatted_df.ScheduledDay.str.slice(5,7)\n",
    "    formatted_df['SchDay'] = formatted_df.ScheduledDay.str.slice(8,10)\n",
    "\n",
    "    formatted_df.ScheduledDay = pds.to_datetime(formatted_df.ScheduledDay.str.slice(0,10))\n",
    "    formatted_df.AppointmentDay = pds.to_datetime(formatted_df.AppointmentDay.str.slice(0,10))\n",
    "    formatted_df['WaitingDays'] = abs((formatted_df.ScheduledDay - formatted_df.AppointmentDay).dt.days)\n",
    "\n",
    "    #Drop de colunas\n",
    "    formatted_df = formatted_df.drop('ScheduledDay',1)\n",
    "    formatted_df = formatted_df.drop('AppointmentDay',1)\n",
    "    \n",
    "    return formatted_df"
   ]
  },
  {
   "cell_type": "code",
   "execution_count": 14,
   "metadata": {},
   "outputs": [],
   "source": [
    "def scale_features(df):\n",
    "    \"\"\"Realiza a normalização das features do modelo\n",
    "    \n",
    "    Parameters:\n",
    "    -----------\n",
    "    df: `pandas.DataFrame`. Dataframe com as features do modelo.\n",
    "    \n",
    "    Returns:\n",
    "    --------\n",
    "    scaled_df: `pandas.DataFrame`. Dataframe com as features normalizadas.\n",
    "    \"\"\"\n",
    "    \n",
    "    scaled_df = df.copy()\n",
    "    scaled_df.SchMonth = preprocessing.scale(list(scaled_df.SchMonth.astype(float)))\n",
    "    scaled_df.SchDay = preprocessing.scale(list(scaled_df.SchDay.astype(float)))\n",
    "    scaled_df.Age = preprocessing.scale(list(scaled_df.Age.astype(float)))\n",
    "    scaled_df.Neighbourhood = preprocessing.scale(list(scaled_df.Neighbourhood.astype(float)))\n",
    "    \n",
    "    return scaled_df"
   ]
  },
  {
   "cell_type": "code",
   "execution_count": 16,
   "metadata": {},
   "outputs": [
    {
     "data": {
      "text/html": [
       "<div>\n",
       "<style scoped>\n",
       "    .dataframe tbody tr th:only-of-type {\n",
       "        vertical-align: middle;\n",
       "    }\n",
       "\n",
       "    .dataframe tbody tr th {\n",
       "        vertical-align: top;\n",
       "    }\n",
       "\n",
       "    .dataframe thead th {\n",
       "        text-align: right;\n",
       "    }\n",
       "</style>\n",
       "<table border=\"1\" class=\"dataframe\">\n",
       "  <thead>\n",
       "    <tr style=\"text-align: right;\">\n",
       "      <th></th>\n",
       "      <th>Gender</th>\n",
       "      <th>Age</th>\n",
       "      <th>Neighbourhood</th>\n",
       "      <th>Scholarship</th>\n",
       "      <th>Hipertension</th>\n",
       "      <th>Diabetes</th>\n",
       "      <th>Alcoholism</th>\n",
       "      <th>Handcap</th>\n",
       "      <th>SMS_received</th>\n",
       "      <th>Noshow</th>\n",
       "      <th>SchMonth</th>\n",
       "      <th>SchDay</th>\n",
       "      <th>WaitingDays</th>\n",
       "    </tr>\n",
       "  </thead>\n",
       "  <tbody>\n",
       "    <tr>\n",
       "      <th>0</th>\n",
       "      <td>1</td>\n",
       "      <td>1.077932</td>\n",
       "      <td>-0.122410</td>\n",
       "      <td>0</td>\n",
       "      <td>1</td>\n",
       "      <td>0</td>\n",
       "      <td>0</td>\n",
       "      <td>0</td>\n",
       "      <td>0</td>\n",
       "      <td>0</td>\n",
       "      <td>-1.150983</td>\n",
       "      <td>1.578047</td>\n",
       "      <td>0</td>\n",
       "    </tr>\n",
       "    <tr>\n",
       "      <th>1</th>\n",
       "      <td>0</td>\n",
       "      <td>0.818306</td>\n",
       "      <td>-0.122410</td>\n",
       "      <td>0</td>\n",
       "      <td>0</td>\n",
       "      <td>0</td>\n",
       "      <td>0</td>\n",
       "      <td>0</td>\n",
       "      <td>0</td>\n",
       "      <td>0</td>\n",
       "      <td>-1.150983</td>\n",
       "      <td>1.578047</td>\n",
       "      <td>0</td>\n",
       "    </tr>\n",
       "    <tr>\n",
       "      <th>2</th>\n",
       "      <td>1</td>\n",
       "      <td>1.077932</td>\n",
       "      <td>0.145907</td>\n",
       "      <td>0</td>\n",
       "      <td>0</td>\n",
       "      <td>0</td>\n",
       "      <td>0</td>\n",
       "      <td>0</td>\n",
       "      <td>0</td>\n",
       "      <td>0</td>\n",
       "      <td>-1.150983</td>\n",
       "      <td>1.578047</td>\n",
       "      <td>0</td>\n",
       "    </tr>\n",
       "    <tr>\n",
       "      <th>4</th>\n",
       "      <td>1</td>\n",
       "      <td>0.818306</td>\n",
       "      <td>-0.122410</td>\n",
       "      <td>0</td>\n",
       "      <td>1</td>\n",
       "      <td>1</td>\n",
       "      <td>0</td>\n",
       "      <td>0</td>\n",
       "      <td>0</td>\n",
       "      <td>0</td>\n",
       "      <td>-1.150983</td>\n",
       "      <td>1.578047</td>\n",
       "      <td>0</td>\n",
       "    </tr>\n",
       "    <tr>\n",
       "      <th>5</th>\n",
       "      <td>1</td>\n",
       "      <td>1.683728</td>\n",
       "      <td>0.727263</td>\n",
       "      <td>0</td>\n",
       "      <td>1</td>\n",
       "      <td>0</td>\n",
       "      <td>0</td>\n",
       "      <td>0</td>\n",
       "      <td>0</td>\n",
       "      <td>0</td>\n",
       "      <td>-1.150983</td>\n",
       "      <td>1.364042</td>\n",
       "      <td>2</td>\n",
       "    </tr>\n",
       "  </tbody>\n",
       "</table>\n",
       "</div>"
      ],
      "text/plain": [
       "   Gender       Age  Neighbourhood  Scholarship  Hipertension  Diabetes  \\\n",
       "0       1  1.077932      -0.122410            0             1         0   \n",
       "1       0  0.818306      -0.122410            0             0         0   \n",
       "2       1  1.077932       0.145907            0             0         0   \n",
       "4       1  0.818306      -0.122410            0             1         1   \n",
       "5       1  1.683728       0.727263            0             1         0   \n",
       "\n",
       "   Alcoholism  Handcap  SMS_received  Noshow  SchMonth    SchDay  WaitingDays  \n",
       "0           0        0             0       0 -1.150983  1.578047            0  \n",
       "1           0        0             0       0 -1.150983  1.578047            0  \n",
       "2           0        0             0       0 -1.150983  1.578047            0  \n",
       "4           0        0             0       0 -1.150983  1.578047            0  \n",
       "5           0        0             0       0 -1.150983  1.364042            2  "
      ]
     },
     "execution_count": 16,
     "metadata": {},
     "output_type": "execute_result"
    }
   ],
   "source": [
    "data = originalData.copy()\n",
    "\n",
    "#Cria as features para o modelo\n",
    "data = feature_engineering(data)\n",
    "\n",
    "#Normalizacao das features\n",
    "data = scale_features(data)\n",
    "\n",
    "#Remocao de dados invalidos\n",
    "data = data[data.Age > 0]\n",
    "\n",
    "data.head()"
   ]
  },
  {
   "cell_type": "code",
   "execution_count": 17,
   "metadata": {},
   "outputs": [
    {
     "data": {
      "text/html": [
       "<div>\n",
       "<style scoped>\n",
       "    .dataframe tbody tr th:only-of-type {\n",
       "        vertical-align: middle;\n",
       "    }\n",
       "\n",
       "    .dataframe tbody tr th {\n",
       "        vertical-align: top;\n",
       "    }\n",
       "\n",
       "    .dataframe thead th {\n",
       "        text-align: right;\n",
       "    }\n",
       "</style>\n",
       "<table border=\"1\" class=\"dataframe\">\n",
       "  <thead>\n",
       "    <tr style=\"text-align: right;\">\n",
       "      <th></th>\n",
       "      <th>Noshow</th>\n",
       "      <th>Age</th>\n",
       "      <th>Alcoholism</th>\n",
       "      <th>Diabetes</th>\n",
       "      <th>Gender</th>\n",
       "      <th>Handcap</th>\n",
       "      <th>Hipertension</th>\n",
       "      <th>Neighbourhood</th>\n",
       "      <th>SMS_received</th>\n",
       "      <th>SchDay</th>\n",
       "      <th>SchMonth</th>\n",
       "      <th>Scholarship</th>\n",
       "      <th>WaitingDays</th>\n",
       "    </tr>\n",
       "  </thead>\n",
       "  <tbody>\n",
       "    <tr>\n",
       "      <th>0</th>\n",
       "      <td>0</td>\n",
       "      <td>1.077932</td>\n",
       "      <td>0</td>\n",
       "      <td>0</td>\n",
       "      <td>1</td>\n",
       "      <td>0</td>\n",
       "      <td>1</td>\n",
       "      <td>-0.122410</td>\n",
       "      <td>0</td>\n",
       "      <td>1.578047</td>\n",
       "      <td>-1.150983</td>\n",
       "      <td>0</td>\n",
       "      <td>0</td>\n",
       "    </tr>\n",
       "    <tr>\n",
       "      <th>1</th>\n",
       "      <td>0</td>\n",
       "      <td>0.818306</td>\n",
       "      <td>0</td>\n",
       "      <td>0</td>\n",
       "      <td>0</td>\n",
       "      <td>0</td>\n",
       "      <td>0</td>\n",
       "      <td>-0.122410</td>\n",
       "      <td>0</td>\n",
       "      <td>1.578047</td>\n",
       "      <td>-1.150983</td>\n",
       "      <td>0</td>\n",
       "      <td>0</td>\n",
       "    </tr>\n",
       "    <tr>\n",
       "      <th>2</th>\n",
       "      <td>0</td>\n",
       "      <td>1.077932</td>\n",
       "      <td>0</td>\n",
       "      <td>0</td>\n",
       "      <td>1</td>\n",
       "      <td>0</td>\n",
       "      <td>0</td>\n",
       "      <td>0.145907</td>\n",
       "      <td>0</td>\n",
       "      <td>1.578047</td>\n",
       "      <td>-1.150983</td>\n",
       "      <td>0</td>\n",
       "      <td>0</td>\n",
       "    </tr>\n",
       "    <tr>\n",
       "      <th>4</th>\n",
       "      <td>0</td>\n",
       "      <td>0.818306</td>\n",
       "      <td>0</td>\n",
       "      <td>1</td>\n",
       "      <td>1</td>\n",
       "      <td>0</td>\n",
       "      <td>1</td>\n",
       "      <td>-0.122410</td>\n",
       "      <td>0</td>\n",
       "      <td>1.578047</td>\n",
       "      <td>-1.150983</td>\n",
       "      <td>0</td>\n",
       "      <td>0</td>\n",
       "    </tr>\n",
       "    <tr>\n",
       "      <th>5</th>\n",
       "      <td>0</td>\n",
       "      <td>1.683728</td>\n",
       "      <td>0</td>\n",
       "      <td>0</td>\n",
       "      <td>1</td>\n",
       "      <td>0</td>\n",
       "      <td>1</td>\n",
       "      <td>0.727263</td>\n",
       "      <td>0</td>\n",
       "      <td>1.364042</td>\n",
       "      <td>-1.150983</td>\n",
       "      <td>0</td>\n",
       "      <td>2</td>\n",
       "    </tr>\n",
       "  </tbody>\n",
       "</table>\n",
       "</div>"
      ],
      "text/plain": [
       "   Noshow       Age  Alcoholism  Diabetes  Gender  Handcap  Hipertension  \\\n",
       "0       0  1.077932           0         0       1        0             1   \n",
       "1       0  0.818306           0         0       0        0             0   \n",
       "2       0  1.077932           0         0       1        0             0   \n",
       "4       0  0.818306           0         1       1        0             1   \n",
       "5       0  1.683728           0         0       1        0             1   \n",
       "\n",
       "   Neighbourhood  SMS_received    SchDay  SchMonth  Scholarship  WaitingDays  \n",
       "0      -0.122410             0  1.578047 -1.150983            0            0  \n",
       "1      -0.122410             0  1.578047 -1.150983            0            0  \n",
       "2       0.145907             0  1.578047 -1.150983            0            0  \n",
       "4      -0.122410             0  1.578047 -1.150983            0            0  \n",
       "5       0.727263             0  1.364042 -1.150983            0            2  "
      ]
     },
     "execution_count": 17,
     "metadata": {},
     "output_type": "execute_result"
    }
   ],
   "source": [
    "#Reindexação dos dados\n",
    "data = data.reindex(columns=sorted(data.columns))\n",
    "data = data.reindex(columns=(['Noshow'] + list([a for a in data.columns if a != 'Noshow'])))\n",
    "data.head()"
   ]
  },
  {
   "cell_type": "code",
   "execution_count": 18,
   "metadata": {},
   "outputs": [
    {
     "data": {
      "text/plain": [
       "([<matplotlib.axis.YTick at 0x7f3ac9213d30>,\n",
       "  <matplotlib.axis.YTick at 0x7f3ac921b588>,\n",
       "  <matplotlib.axis.YTick at 0x7f3ac9231668>,\n",
       "  <matplotlib.axis.YTick at 0x7f3ac8f88b38>,\n",
       "  <matplotlib.axis.YTick at 0x7f3ac8f90f98>,\n",
       "  <matplotlib.axis.YTick at 0x7f3ac8f7f4e0>,\n",
       "  <matplotlib.axis.YTick at 0x7f3ac8f77f28>,\n",
       "  <matplotlib.axis.YTick at 0x7f3ac8f77a90>,\n",
       "  <matplotlib.axis.YTick at 0x7f3ac8f77588>,\n",
       "  <matplotlib.axis.YTick at 0x7f3ac8f77198>,\n",
       "  <matplotlib.axis.YTick at 0x7f3ac583c4e0>,\n",
       "  <matplotlib.axis.YTick at 0x7f3ac583c9e8>,\n",
       "  <matplotlib.axis.YTick at 0x7f3ac583cef0>],\n",
       " <a list of 13 Text yticklabel objects>)"
      ]
     },
     "execution_count": 18,
     "metadata": {},
     "output_type": "execute_result"
    },
    {
     "data": {
      "image/png": "[encoded data removed]",
      "text/plain": [
       "<Figure size 1440x1440 with 1 Axes>"
      ]
     },
     "metadata": {
      "needs_background": "light"
     },
     "output_type": "display_data"
    }
   ],
   "source": [
    "corr = data.corr()\n",
    "fig, ax = plt.subplots(figsize=(20, 20))\n",
    "ax.matshow(corr)\n",
    "plt.xticks(range(len(corr.columns)), corr.columns)\n",
    "plt.yticks(range(len(corr.columns)), corr.columns)"
   ]
  },
  {
   "cell_type": "code",
   "execution_count": 19,
   "metadata": {},
   "outputs": [],
   "source": [
    "def plot_confusion_matrix(cm,\n",
    "                          target_names,\n",
    "                          title='Confusion matrix',\n",
    "                          cmap=None,\n",
    "                          normalize=True):\n",
    "   \n",
    "    accuracy = np.trace(cm) / float(np.sum(cm))\n",
    "    misclass = 1 - accuracy\n",
    "\n",
    "    if cmap is None:\n",
    "        cmap = plt.get_cmap('Blues')\n",
    "\n",
    "    plt.figure(figsize=(8, 6))\n",
    "    plt.imshow(cm, interpolation='nearest', cmap=cmap)\n",
    "    plt.title(title)\n",
    "    plt.colorbar()\n",
    "\n",
    "    if target_names is not None:\n",
    "        tick_marks = np.arange(len(target_names))\n",
    "        plt.xticks(tick_marks, target_names, rotation=45)\n",
    "        plt.yticks(tick_marks, target_names)\n",
    "\n",
    "    if normalize:\n",
    "        cm = cm.astype('float') / cm.sum(axis=1)[:, np.newaxis]\n",
    "\n",
    "\n",
    "    thresh = cm.max() / 1.5 if normalize else cm.max() / 2\n",
    "    for i, j in itertools.product(range(cm.shape[0]), range(cm.shape[1])):\n",
    "        if normalize:\n",
    "            plt.text(j, i, \"{:0.4f}\".format(cm[i, j]),\n",
    "                     horizontalalignment=\"center\",\n",
    "                     color=\"white\" if cm[i, j] > thresh else \"black\")\n",
    "        else:\n",
    "            plt.text(j, i, \"{:,}\".format(cm[i, j]),\n",
    "                     horizontalalignment=\"center\",\n",
    "                     color=\"white\" if cm[i, j] > thresh else \"black\")\n",
    "\n",
    "\n",
    "    plt.tight_layout()\n",
    "    plt.ylabel('True label')\n",
    "    plt.xlabel('Predicted label\\naccuracy={:0.4f}; misclass={:0.4f}'.format(accuracy, misclass))\n",
    "    plt.show()\n"
   ]
  },
  {
   "cell_type": "code",
   "execution_count": 23,
   "metadata": {},
   "outputs": [],
   "source": [
    "def train_val_test_split(X, y, test_size=0.2, random_state=0, over_sampling=False):\n",
    "    \"\"\"Gets input data and returns it splitted in three parts (training, validation and testing). Optionally, it can oversample the data.\n",
    "    \n",
    "    Parameters:\n",
    "    -----------\n",
    "    X: `pandas.DataFrame` or `pandas.Series`. Contains model features.\n",
    "    y: `pandas.Series`. Contains the model target.\n",
    "    test_size: `float`. test_size will be passed to sklearn.model_selection.train_test_split function.\n",
    "    random_state: `integer`. random_state will be passed to sklearn.model_selection.train_test_split function.\n",
    "    over_sampling: `boolean`. Indicates if data should be oversampled before returning the result.\n",
    "    \n",
    "    Returns:\n",
    "    --------\n",
    "    X_train = `pandas.DataFrame` or `pandas.Series`. Contains model features. Should be used on the model training phase.\n",
    "    X_val = `pandas.DataFrame` or `pandas.Series`. Contains model features. Should be used on the model training phase.\n",
    "    X_test = `pandas.DataFrame` or `pandas.Series`. Contains model features. Should be used for final model assessment.\n",
    "    y_train = `pandas.Series`. Contains the model target. Should be used on the model training phase.\n",
    "    y_val = `pandas.Series`. Contains the model target. Should be used on the model training phase.\n",
    "    y_test = `pandas.Series`. Contains the model target. Should be used for final model assessment.\n",
    "    \"\"\"\n",
    "    \n",
    "    #Required function\n",
    "    from sklearn.model_selection import train_test_split\n",
    "    \n",
    "    #Splits test from the rest\n",
    "    X_model, X_test, y_model, y_test = train_test_split(X, y, test_size=test_size, random_state=random_state)  \n",
    "    \n",
    "    #Splits train and validation\n",
    "    X_train, X_val, y_train, y_val = train_test_split(X_model, y_model, test_size=test_size, random_state=random_state)  \n",
    "    \n",
    "    #If over_sampling flag is set, than data is oversampled\n",
    "    if (over_sampling==True):\n",
    "        #Required function\n",
    "        from imblearn.over_sampling import SMOTE\n",
    "        \n",
    "        #Creates oversampled set\n",
    "        balancer = SMOTE(kind='regular')\n",
    "        X_resampled_train, y_resampled_train = balancer.fit_sample(X_train, y_train)\n",
    "        X_resampled_val, y_resampled_val = balancer.fit_sample(X_val, y_val)\n",
    "        X_resampled_test, y_resampled_test = balancer.fit_sample(X_test, y_test)\n",
    "        \n",
    "        #Overrides original variables to make returning easier\n",
    "        X_train = X_resampled_train        \n",
    "        y_train = y_resampled_train\n",
    "        X_val = X_resampled_val\n",
    "        y_val = y_resampled_val\n",
    "        X_test = X_resampled_test\n",
    "        y_test = y_resampled_test\n",
    "        \n",
    "    #Returns dataset\n",
    "    return X_train,X_val,X_test,y_train,y_val,y_test\n",
    "        "
   ]
  },
  {
   "cell_type": "code",
   "execution_count": 38,
   "metadata": {},
   "outputs": [],
   "source": [
    "#Separação do dataset\n",
    "X = data.drop('Noshow',1)\n",
    "y = data.Noshow\n",
    "X_train,X_val,X_test,y_train,y_val,y_test = train_val_test_split(X,y,over_sampling=True)"
   ]
  },
  {
   "cell_type": "code",
   "execution_count": 39,
   "metadata": {},
   "outputs": [
    {
     "name": "stdout",
     "output_type": "stream",
     "text": [
      "Normal Data:  Counter({0: 44852, 1: 9558})\n",
      "Resampled:  Counter({0: 28707, 1: 28707})\n",
      "Resampled:  Counter({0: 7157, 1: 7157})\n",
      "Resampled:  Counter({0: 8988, 1: 8988})\n"
     ]
    }
   ],
   "source": [
    "#Validating the output\n",
    "print('Normal Data: ', collections.Counter(y))\n",
    "print('Resampled: ', collections.Counter(y_train))\n",
    "print('Resampled: ', collections.Counter(y_val))\n",
    "print('Resampled: ', collections.Counter(y_test))"
   ]
  },
  {
   "cell_type": "code",
   "execution_count": 40,
   "metadata": {},
   "outputs": [
    {
     "name": "stderr",
     "output_type": "stream",
     "text": [
      "/home/DAITAN/ftsantos/.conda/envs/jupyter/lib/python3.6/site-packages/sklearn/ensemble/weight_boosting.py:29: DeprecationWarning: numpy.core.umath_tests is an internal NumPy module and should not be imported. It will be removed in a future NumPy release.\n",
      "  from numpy.core.umath_tests import inner1d\n"
     ]
    },
    {
     "name": "stdout",
     "output_type": "stream",
     "text": [
      "Fitting:  RandomForestClassifier\n",
      "Fitting:  LogisticRegression\n",
      "Fitting:  DecisionTreeClassifier\n"
     ]
    }
   ],
   "source": [
    "#Criacao dos modelos\n",
    "from sklearn.ensemble import RandomForestClassifier\n",
    "from sklearn.linear_model import LogisticRegression\n",
    "from sklearn.tree import DecisionTreeClassifier  \n",
    "\n",
    "algsSize = 3\n",
    "\n",
    "#Algoritimos que serao treinados\n",
    "algs = []\n",
    "algs.append(RandomForestClassifier(n_estimators=100, criterion='entropy', max_features='auto', random_state=0))\n",
    "algs.append(LogisticRegression(random_state=0, penalty='l2', C=1, fit_intercept=True, solver='liblinear'))\n",
    "algs.append(DecisionTreeClassifier(random_state=0, criterion='entropy', splitter='best')  )\n",
    "\n",
    "for x in range(0, algsSize):\n",
    "    print('Fitting: ', type(algs[x]).__name__)\n",
    "    algs[x].fit(X_train, y_train)     "
   ]
  },
  {
   "cell_type": "code",
   "execution_count": 42,
   "metadata": {},
   "outputs": [],
   "source": [
    "#Definicao de dataframe para exibicao de resultados\n",
    "results = pds.DataFrame(columns=['Name', 'Type', 'Resampled', 'ACC'])"
   ]
  },
  {
   "cell_type": "code",
   "execution_count": 43,
   "metadata": {},
   "outputs": [],
   "source": [
    "#Função para display de resultados\n",
    "def appendResult(alg, dataType, resampled, X, y):\n",
    "    algName = type(alg).__name__\n",
    "    predicted = alg.predict(X)\n",
    "    accuracy = accuracy_score(y, predicted)\n",
    "    results.loc[len(results)]=[algName, dataType, resampled, accuracy]\n",
    "    print('Confusion Matrix - ', algName, ' RESAMPLED = ', resampled)\n",
    "    plot_confusion_matrix(cm=confusion_matrix(y, predicted), target_names=['Show', 'NoShow'])"
   ]
  },
  {
   "cell_type": "code",
   "execution_count": 44,
   "metadata": {},
   "outputs": [
    {
     "name": "stdout",
     "output_type": "stream",
     "text": [
      "Confusion Matrix -  RandomForestClassifier  RESAMPLED =  Yes\n"
     ]
    },
    {
     "data": {
      "image/png": "[encoded data removed]",
      "text/plain": [
       "<Figure size 576x432 with 2 Axes>"
      ]
     },
     "metadata": {
      "needs_background": "light"
     },
     "output_type": "display_data"
    },
    {
     "name": "stdout",
     "output_type": "stream",
     "text": [
      "Confusion Matrix -  LogisticRegression  RESAMPLED =  Yes\n"
     ]
    },
    {
     "data": {
      "image/png": "[encoded data removed]",
      "text/plain": [
       "<Figure size 576x432 with 2 Axes>"
      ]
     },
     "metadata": {
      "needs_background": "light"
     },
     "output_type": "display_data"
    },
    {
     "name": "stdout",
     "output_type": "stream",
     "text": [
      "Confusion Matrix -  DecisionTreeClassifier  RESAMPLED =  Yes\n"
     ]
    },
    {
     "data": {
      "image/png": "[encoded data removed]",
      "text/plain": [
       "<Figure size 576x432 with 2 Axes>"
      ]
     },
     "metadata": {
      "needs_background": "light"
     },
     "output_type": "display_data"
    }
   ],
   "source": [
    "#Acuracia do modelo em VALIDACAO\n",
    "for x in range(0, algsSize):\n",
    "    appendResult(algs[x], 'Validation', 'Yes', X_val, y_val)    "
   ]
  },
  {
   "cell_type": "code",
   "execution_count": 45,
   "metadata": {},
   "outputs": [
    {
     "name": "stdout",
     "output_type": "stream",
     "text": [
      "Confusion Matrix -  RandomForestClassifier  RESAMPLED =  Yes\n"
     ]
    },
    {
     "data": {
      "image/png": "[encoded data removed]",
      "text/plain": [
       "<Figure size 576x432 with 2 Axes>"
      ]
     },
     "metadata": {
      "needs_background": "light"
     },
     "output_type": "display_data"
    },
    {
     "name": "stdout",
     "output_type": "stream",
     "text": [
      "Confusion Matrix -  LogisticRegression  RESAMPLED =  Yes\n"
     ]
    },
    {
     "data": {
      "image/png": "[encoded data removed]",
      "text/plain": [
       "<Figure size 576x432 with 2 Axes>"
      ]
     },
     "metadata": {
      "needs_background": "light"
     },
     "output_type": "display_data"
    },
    {
     "name": "stdout",
     "output_type": "stream",
     "text": [
      "Confusion Matrix -  DecisionTreeClassifier  RESAMPLED =  Yes\n"
     ]
    },
    {
     "data": {
      "image/png": "[encoded data removed]",
      "text/plain": [
       "<Figure size 576x432 with 2 Axes>"
      ]
     },
     "metadata": {
      "needs_background": "light"
     },
     "output_type": "display_data"
    }
   ],
   "source": [
    "#Acuracia do modelo em TESTE\n",
    "for x in range(0, algsSize):\n",
    "    appendResult(algs[x], 'Test', 'Yes', X_test, y_test)    "
   ]
  },
  {
   "cell_type": "code",
   "execution_count": 46,
   "metadata": {},
   "outputs": [
    {
     "data": {
      "text/html": [
       "<div>\n",
       "<style scoped>\n",
       "    .dataframe tbody tr th:only-of-type {\n",
       "        vertical-align: middle;\n",
       "    }\n",
       "\n",
       "    .dataframe tbody tr th {\n",
       "        vertical-align: top;\n",
       "    }\n",
       "\n",
       "    .dataframe thead th {\n",
       "        text-align: right;\n",
       "    }\n",
       "</style>\n",
       "<table border=\"1\" class=\"dataframe\">\n",
       "  <thead>\n",
       "    <tr style=\"text-align: right;\">\n",
       "      <th></th>\n",
       "      <th>Name</th>\n",
       "      <th>Type</th>\n",
       "      <th>Resampled</th>\n",
       "      <th>ACC</th>\n",
       "    </tr>\n",
       "  </thead>\n",
       "  <tbody>\n",
       "    <tr>\n",
       "      <th>0</th>\n",
       "      <td>RandomForestClassifier</td>\n",
       "      <td>Validation</td>\n",
       "      <td>Yes</td>\n",
       "      <td>0.805994</td>\n",
       "    </tr>\n",
       "    <tr>\n",
       "      <th>1</th>\n",
       "      <td>LogisticRegression</td>\n",
       "      <td>Validation</td>\n",
       "      <td>Yes</td>\n",
       "      <td>0.612407</td>\n",
       "    </tr>\n",
       "    <tr>\n",
       "      <th>2</th>\n",
       "      <td>DecisionTreeClassifier</td>\n",
       "      <td>Validation</td>\n",
       "      <td>Yes</td>\n",
       "      <td>0.819757</td>\n",
       "    </tr>\n",
       "    <tr>\n",
       "      <th>3</th>\n",
       "      <td>RandomForestClassifier</td>\n",
       "      <td>Test</td>\n",
       "      <td>Yes</td>\n",
       "      <td>0.806353</td>\n",
       "    </tr>\n",
       "    <tr>\n",
       "      <th>4</th>\n",
       "      <td>LogisticRegression</td>\n",
       "      <td>Test</td>\n",
       "      <td>Yes</td>\n",
       "      <td>0.623887</td>\n",
       "    </tr>\n",
       "    <tr>\n",
       "      <th>5</th>\n",
       "      <td>DecisionTreeClassifier</td>\n",
       "      <td>Test</td>\n",
       "      <td>Yes</td>\n",
       "      <td>0.816199</td>\n",
       "    </tr>\n",
       "  </tbody>\n",
       "</table>\n",
       "</div>"
      ],
      "text/plain": [
       "                     Name        Type Resampled       ACC\n",
       "0  RandomForestClassifier  Validation       Yes  0.805994\n",
       "1      LogisticRegression  Validation       Yes  0.612407\n",
       "2  DecisionTreeClassifier  Validation       Yes  0.819757\n",
       "3  RandomForestClassifier        Test       Yes  0.806353\n",
       "4      LogisticRegression        Test       Yes  0.623887\n",
       "5  DecisionTreeClassifier        Test       Yes  0.816199"
      ]
     },
     "execution_count": 46,
     "metadata": {},
     "output_type": "execute_result"
    }
   ],
   "source": [
    "#Resultados\n",
    "results"
   ]
  }
 ],
 "metadata": {
  "kernelspec": {
   "display_name": "Python 3",
   "language": "python",
   "name": "python3"
  },
  "language_info": {
   "codemirror_mode": {
    "name": "ipython",
    "version": 3
   },
   "file_extension": ".py",
   "mimetype": "text/x-python",
   "name": "python",
   "nbconvert_exporter": "python",
   "pygments_lexer": "ipython3",
   "version": "3.6.6"
  }
 },
 "nbformat": 4,
 "nbformat_minor": 2
}
