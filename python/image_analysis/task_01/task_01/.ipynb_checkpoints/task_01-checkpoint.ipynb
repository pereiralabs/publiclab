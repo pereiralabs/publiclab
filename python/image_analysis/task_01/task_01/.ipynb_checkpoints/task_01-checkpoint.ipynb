{
 "cells": [
  {
   "cell_type": "markdown",
   "metadata": {},
   "source": [
    "## Task 01 - Image Analysis\n",
    "\n",
    "Name: Felipe Pereira"
   ]
  },
  {
   "cell_type": "code",
   "execution_count": 1,
   "metadata": {},
   "outputs": [],
   "source": [
    "import sys\n",
    "sys.path.append('/home/felipe/python_envs/env_felipe/lib/python3.8/site-packages')"
   ]
  },
  {
   "cell_type": "code",
   "execution_count": 2,
   "metadata": {},
   "outputs": [],
   "source": [
    "# Importing libraries that were used in this notebook\n",
    "import cv2\n",
    "import glob, os\n",
    "import numpy as np\n",
    "\n",
    "from PIL import Image\n",
    "from sklearn.datasets import load_sample_image\n",
    "from sklearn.feature_extraction import image"
   ]
  },
  {
   "cell_type": "markdown",
   "metadata": {},
   "source": [
    "### Dataset composition"
   ]
  },
  {
   "cell_type": "code",
   "execution_count": 5,
   "metadata": {},
   "outputs": [
    {
     "name": "stdout",
     "output_type": "stream",
     "text": [
      "Processed file: orig_0200.png\n"
     ]
    }
   ],
   "source": [
    "for file_name in os.listdir('plates/originals/'):\n",
    "    \n",
    "    if file_name.endswith(\"0200.png\"):\n",
    "    \n",
    "        # Reading image\n",
    "        image = cv2.imread('plates/originals/' + file_name,cv2.IMREAD_GRAYSCALE)\n",
    "\n",
    "        # Setting initial patch center    \n",
    "        width_img=50\n",
    "\n",
    "        # Setting final dimensions\n",
    "        last_height_img=225\n",
    "        last_width_img=325\n",
    "\n",
    "        # Setting stride\n",
    "        stride_pixels=15\n",
    "\n",
    "        # Defining patch number\n",
    "        patch_number=1\n",
    "\n",
    "        while width_img <= last_width_img:\n",
    "\n",
    "            # Setting initial patch center    \n",
    "            height_img=50 \n",
    "\n",
    "            while height_img <= last_height_img:                   \n",
    "\n",
    "                # Defining some values\n",
    "                patch_center = np.array([height_img, width_img])        \n",
    "                patch_scale = 0.38\n",
    "\n",
    "                # Calc patch position and extract the patch\n",
    "                smaller_dim = np.min(image.shape[0:2])\n",
    "                patch_size = int(patch_scale * smaller_dim)\n",
    "                patch_x = int(patch_center[0] - patch_size / 2.)\n",
    "                patch_y = int(patch_center[1] - patch_size / 2.)\n",
    "                patch_image = image[patch_x:patch_x+patch_size, patch_y:patch_y+patch_size]\n",
    "\n",
    "                # Transforming gray scalte to bgr\n",
    "                rgb_patch = cv2.cvtColor(patch_image, cv2.COLOR_GRAY2BGR)\n",
    "\n",
    "                # Transforming bgr to ycrcb\n",
    "                ycrcb_patch = cv2.cvtColor(rgb_patch, cv2.COLOR_BGR2YCrCb)\n",
    "\n",
    "                # Writing output            \n",
    "                patch_output = file_name.replace('.png','') + '_p' + str(patch_number) + '.png'                \n",
    "                cv2.imwrite('output/' + patch_output,ycrcb_patch)\n",
    "\n",
    "                # Updating height loop var\n",
    "                height_img = height_img + stride_pixels\n",
    "                patch_number = patch_number + 1\n",
    "\n",
    "                # Debugging                \n",
    "                #print('Height: {}'.format(height_img))\n",
    "                #print('Width: {}'.format(width_img))\n",
    "                #print('Patch Number: {}'.format(patch_number))\n",
    "\n",
    "            # Updating width loop var\n",
    "            width_img = width_img + stride_pixels       \n",
    "        \n",
    "        # Looping through files\n",
    "        print('Processed file: {}'.format(file_name))"
   ]
  },
  {
   "cell_type": "markdown",
   "metadata": {},
   "source": [
    "### Batch Normalization"
   ]
  },
  {
   "cell_type": "code",
   "execution_count": 9,
   "metadata": {},
   "outputs": [
    {
     "name": "stderr",
     "output_type": "stream",
     "text": [
      "<ipython-input-9-5d7ab568ad68>:79: RuntimeWarning: invalid value encountered in true_divide\n",
      "  c2_array_normalized = c2_array_mm / c2_array.std(axis=1, keepdims=True)\n"
     ]
    },
    {
     "name": "stdout",
     "output_type": "stream",
     "text": [
      "Processed file: orig_0200.png\n"
     ]
    }
   ],
   "source": [
    "for file_name in os.listdir('plates/originals/'):\n",
    "           \n",
    "    if file_name.endswith(\"0200.png\"):\n",
    "    \n",
    "        # Reading image\n",
    "        image = cv2.imread('plates/originals/' + file_name,cv2.IMREAD_GRAYSCALE)\n",
    "\n",
    "        # Setting initial patch center    \n",
    "        width_img=50\n",
    "\n",
    "        # Setting final dimensions\n",
    "        last_height_img=225\n",
    "        last_width_img=325\n",
    "        #last_height_img=75\n",
    "        #last_width_img=50\n",
    "\n",
    "        # Setting stride\n",
    "        stride_pixels=15\n",
    "\n",
    "        # Defining patch number\n",
    "        patch_number=1\n",
    "\n",
    "        while width_img <= last_width_img:\n",
    "\n",
    "            # Setting initial patch center    \n",
    "            height_img=50 \n",
    "\n",
    "            while height_img <= last_height_img:                   \n",
    "\n",
    "                # Defining some values\n",
    "                patch_center = np.array([height_img, width_img])        \n",
    "                patch_scale = 0.38\n",
    "\n",
    "                # Calc patch position and extract the patch\n",
    "                smaller_dim = np.min(image.shape[0:2])\n",
    "                patch_size = int(patch_scale * smaller_dim)\n",
    "                patch_x = int(patch_center[0] - patch_size / 2.)\n",
    "                patch_y = int(patch_center[1] - patch_size / 2.)\n",
    "                patch_image = image[patch_x:patch_x+patch_size, patch_y:patch_y+patch_size]\n",
    "\n",
    "                # Transforming gray scalte to bgr\n",
    "                rgb_patch = cv2.cvtColor(patch_image, cv2.COLOR_GRAY2BGR)\n",
    "\n",
    "                # Transforming bgr to ycrcb\n",
    "                ycrcb_patch = cv2.cvtColor(rgb_patch, cv2.COLOR_BGR2YCrCb)\n",
    "        \n",
    "                # Transforming image into an array\n",
    "                #c1_array = np.asarray(rgb_patch[:,:,0])\n",
    "                #c2_array = np.asarray(rgb_patch[:,:,1])\n",
    "                #c2_array = np.asarray(rgb_patch[:,:,2])\n",
    "                \n",
    "                c1_array = np.asarray(ycrcb_patch[:,:,0])\n",
    "                c2_array = np.asarray(ycrcb_patch[:,:,1])\n",
    "                c3_array = np.asarray(ycrcb_patch[:,:,2])\n",
    "        \n",
    "                # Getting array metrics        \n",
    "                #print('Channel 1 - Metrics:')\n",
    "                #print('Sum of pixels: {}'.format(np.sum(c1_array)))\n",
    "                #print('Mean of pixels: {}'.format(np.mean(c1_array)))\n",
    "                #print('Std of pixels: {}'.format(np.std(c1_array)))\n",
    "                #print('Array shape: {}'.format(c1_array.shape))\n",
    "                #print(' ')\n",
    "                #print('Channel 2 - Metrics:')\n",
    "                #print('Sum of pixels: {}'.format(np.sum(c2_array)))\n",
    "                #print('Mean of pixels: {}'.format(np.mean(c2_array)))\n",
    "                #print('Std of pixels: {}'.format(np.std(c2_array)))\n",
    "                #print(' ')\n",
    "                #print('Channel 3 - Metrics:')\n",
    "                #print('Sum of pixels: {}'.format(np.sum(c3_array)))\n",
    "                #print('Mean of pixels: {}'.format(np.mean(c3_array)))\n",
    "                #print('Std of pixels: {}'.format(np.std(c3_array)))\n",
    "                #print(' ')\n",
    "                \n",
    "                # Normalization\n",
    "                c1_array_mm = c1_array - c1_array.mean(axis=1, keepdims=True)\n",
    "                c1_array_normalized = c1_array_mm / c1_array.std(axis=1, keepdims=True)\n",
    "                \n",
    "                c2_array_mm = c2_array - c2_array.mean(axis=1, keepdims=True)\n",
    "                c2_array_normalized = c2_array_mm / c2_array.std(axis=1, keepdims=True)\n",
    "                \n",
    "                c3_array_mm = c3_array - c3_array.mean(axis=1, keepdims=True)\n",
    "                c3_array_normalized = c3_array_mm / c1_array.std(axis=1, keepdims=True)\n",
    "                \n",
    "                # Getting array metrics  \n",
    "                #print('Channel 1 Normalized - Metrics:')\n",
    "                #print('Sum of pixels: {}'.format(np.sum(c1_array_normalized)))\n",
    "                #print('Mean of pixels: {}'.format(np.mean(c1_array_normalized)))\n",
    "                #print('Std of pixels: {}'.format(np.std(c1_array_normalized)))\n",
    "                #print('Array shape: {}'.format(c1_array_normalized.shape))\n",
    "                #print(' ')\n",
    "                #print('Channel 2 Normalized - Metrics:')\n",
    "                #print('Sum of pixels: {}'.format(np.sum(c2_array_normalized)))\n",
    "                #print('Mean of pixels: {}'.format(np.mean(c2_array_normalized)))\n",
    "                #print('Std of pixels: {}'.format(np.std(c2_array_normalized)))\n",
    "                #print(' ')\n",
    "                #print('Channel 3 Normalized - Metrics:')\n",
    "                #print('Sum of pixels: {}'.format(np.sum(c3_array_normalized)))\n",
    "                #print('Mean of pixels: {}'.format(np.mean(c3_array_normalized)))\n",
    "                #print('Std of pixels: {}'.format(np.std(c3_array_normalized)))\n",
    "                #print(' ')\n",
    "                \n",
    "                # Writing output            \n",
    "                patch_output = file_name.replace('.png','') + '_p' + str(patch_number) + '_c1_normalized.png'                \n",
    "                Image.fromarray(c1_array_normalized).convert('RGB').save('output/' + patch_output)\n",
    "                \n",
    "                patch_output = file_name.replace('.png','') + '_p' + str(patch_number) + '_c2_normalized.png'                \n",
    "                Image.fromarray(c2_array_normalized).convert('RGB').save('output/' + patch_output)\n",
    "                \n",
    "                patch_output = file_name.replace('.png','') + '_p' + str(patch_number) + '_c3_normalized.png'                \n",
    "                Image.fromarray(c3_array_normalized).convert('RGB').save('output/' + patch_output)\n",
    "                \n",
    "                #cv2.imwrite('output/' + patch_output,gr_im)                \n",
    "                \n",
    "                # Updating height loop var\n",
    "                height_img = height_img + stride_pixels                                \n",
    "                patch_number = patch_number + 1\n",
    "\n",
    "            # Updating width loop var\n",
    "            width_img = width_img + stride_pixels       \n",
    "        \n",
    "        # Looping through files\n",
    "        print('Processed file: {}'.format(file_name))"
   ]
  },
  {
   "cell_type": "markdown",
   "metadata": {},
   "source": [
    "### Random Kernels"
   ]
  },
  {
   "cell_type": "code",
   "execution_count": 18,
   "metadata": {},
   "outputs": [],
   "source": [
    "# Creating random matrices\n",
    "kernel_01 = np.random.rand(3,3)\n",
    "kernel_01_mean = kernel_01 - kernel_01.mean(axis=1, keepdims=True)\n",
    "\n",
    "kernel_02 = np.random.rand(3,3)\n",
    "kernel_02_mean = kernel_02 - kernel_02.mean(axis=1, keepdims=True)\n",
    "\n",
    "kernel_03 = np.random.rand(3,3)\n",
    "kernel_03_mean = kernel_03 - kernel_03.mean(axis=1, keepdims=True)"
   ]
  },
  {
   "cell_type": "code",
   "execution_count": 20,
   "metadata": {},
   "outputs": [
    {
     "data": {
      "text/plain": [
       "array([[0.21980778, 0.78481598, 0.48137923],\n",
       "       [0.73919692, 0.37351633, 0.08824112],\n",
       "       [0.69669695, 0.32508871, 0.40736512]])"
      ]
     },
     "execution_count": 20,
     "metadata": {},
     "output_type": "execute_result"
    }
   ],
   "source": [
    "kernel_01"
   ]
  },
  {
   "cell_type": "code",
   "execution_count": 19,
   "metadata": {},
   "outputs": [
    {
     "data": {
      "text/plain": [
       "array([[-0.27552655,  0.28948165, -0.0139551 ],\n",
       "       [ 0.3388788 , -0.02680179, -0.31207701],\n",
       "       [ 0.22031336, -0.15129488, -0.06901847]])"
      ]
     },
     "execution_count": 19,
     "metadata": {},
     "output_type": "execute_result"
    }
   ],
   "source": [
    "kernel_01_mean"
   ]
  },
  {
   "cell_type": "code",
   "execution_count": 12,
   "metadata": {},
   "outputs": [
    {
     "data": {
      "text/plain": [
       "array([[0.70320468, 0.6859957 , 0.14971025],\n",
       "       [0.68363737, 0.86322721, 0.19225785],\n",
       "       [0.20189084, 0.78267423, 0.11192871]])"
      ]
     },
     "execution_count": 12,
     "metadata": {},
     "output_type": "execute_result"
    }
   ],
   "source": [
    "kernel_02"
   ]
  },
  {
   "cell_type": "code",
   "execution_count": 13,
   "metadata": {},
   "outputs": [
    {
     "data": {
      "text/plain": [
       "array([[0.56824472, 0.31371426, 0.87588369],\n",
       "       [0.19023029, 0.38800759, 0.25702264],\n",
       "       [0.68979579, 0.41636415, 0.73928157]])"
      ]
     },
     "execution_count": 13,
     "metadata": {},
     "output_type": "execute_result"
    }
   ],
   "source": [
    "kernel_03"
   ]
  },
  {
   "cell_type": "code",
   "execution_count": 14,
   "metadata": {},
   "outputs": [
    {
     "data": {
      "text/plain": [
       "array([[-1,  0, -1],\n",
       "       [-2,  0,  2],\n",
       "       [-1,  0,  1]])"
      ]
     },
     "execution_count": 14,
     "metadata": {},
     "output_type": "execute_result"
    }
   ],
   "source": [
    "kernel_sobel = np.array([[-1, 0, -1], [-2, 0, 2], [-1, 0, 1]])\n",
    "kernel_sobel"
   ]
  },
  {
   "cell_type": "markdown",
   "metadata": {},
   "source": [
    "### Convolution"
   ]
  },
  {
   "cell_type": "code",
   "execution_count": 15,
   "metadata": {},
   "outputs": [],
   "source": [
    "def convolve2D(image, kernel, padding=0, strides=1):\n",
    "    # Cross Correlation\n",
    "    kernel = np.flipud(np.fliplr(kernel))\n",
    "\n",
    "    # Gather Shapes of Kernel + Image + Padding\n",
    "    xKernShape = kernel.shape[0]\n",
    "    yKernShape = kernel.shape[1]\n",
    "    xImgShape = image.shape[0]\n",
    "    yImgShape = image.shape[0]\n",
    "\n",
    "    # Shape of Output Convolution\n",
    "    xOutput = int(((xImgShape - xKernShape + 2 * padding) / strides) + 1)\n",
    "    yOutput = int(((yImgShape - yKernShape + 2 * padding) / strides) + 1)\n",
    "    output = np.zeros((xOutput, yOutput))\n",
    "\n",
    "    # Apply Equal Padding to All Sides\n",
    "    if padding != 0:\n",
    "        imagePadded = np.zeros((image.shape[0] + padding*2, image.shape[1] + padding*2))\n",
    "        imagePadded[int(padding):int(-1 * padding), int(padding):int(-1 * padding)] = image\n",
    "        print(imagePadded)\n",
    "    else:\n",
    "        imagePadded = image\n",
    "\n",
    "    # Iterate through image\n",
    "    for y in range(image.shape[1]):\n",
    "        # Exit Convolution\n",
    "        if y > image.shape[1] - yKernShape:\n",
    "            break\n",
    "        # Only Convolve if y has gone down by the specified Strides\n",
    "        if y % strides == 0:\n",
    "            for x in range(image.shape[0]):\n",
    "                # Go to next row once kernel is out of bounds\n",
    "                if x > image.shape[0] - xKernShape:\n",
    "                    break\n",
    "                try:\n",
    "                    # Only Convolve if x has moved by the specified Strides\n",
    "                    if x % strides == 0:\n",
    "                        output[x, y] = (kernel * imagePadded[x: x + xKernShape, y: y + yKernShape]).sum()\n",
    "                except:\n",
    "                    break\n",
    "\n",
    "    return output"
   ]
  },
  {
   "cell_type": "code",
   "execution_count": 21,
   "metadata": {},
   "outputs": [
    {
     "name": "stdout",
     "output_type": "stream",
     "text": [
      "Processed file: orig_0200.png\n"
     ]
    }
   ],
   "source": [
    "for file_name in os.listdir('plates/originals/'):\n",
    "           \n",
    "    if file_name.endswith(\"0200.png\"):\n",
    "    \n",
    "        # Reading image\n",
    "        image = cv2.imread('plates/originals/' + file_name,cv2.IMREAD_GRAYSCALE)\n",
    "\n",
    "        # Setting initial patch center    \n",
    "        width_img=50\n",
    "\n",
    "        # Setting final dimensions\n",
    "        last_height_img=225\n",
    "        last_width_img=325\n",
    "        #last_height_img=75\n",
    "        #last_width_img=50\n",
    "\n",
    "        # Setting stride\n",
    "        stride_pixels=15\n",
    "\n",
    "        # Defining patch number\n",
    "        patch_number=1\n",
    "\n",
    "        while width_img <= last_width_img:\n",
    "\n",
    "            # Setting initial patch center    \n",
    "            height_img=50 \n",
    "\n",
    "            while height_img <= last_height_img:                   \n",
    "\n",
    "                # Defining some values\n",
    "                patch_center = np.array([height_img, width_img])        \n",
    "                patch_scale = 0.38\n",
    "\n",
    "                # Calc patch position and extract the patch\n",
    "                smaller_dim = np.min(image.shape[0:2])\n",
    "                patch_size = int(patch_scale * smaller_dim)\n",
    "                patch_x = int(patch_center[0] - patch_size / 2.)\n",
    "                patch_y = int(patch_center[1] - patch_size / 2.)\n",
    "                patch_image = image[patch_x:patch_x+patch_size, patch_y:patch_y+patch_size]\n",
    "\n",
    "                # Transforming gray scalte to bgr\n",
    "                rgb_patch = cv2.cvtColor(patch_image, cv2.COLOR_GRAY2BGR)\n",
    "\n",
    "                # Transforming bgr to ycrcb\n",
    "                ycrcb_patch = cv2.cvtColor(rgb_patch, cv2.COLOR_BGR2YCrCb)\n",
    "        \n",
    "                # Transforming image into an array\n",
    "                c1_array = np.asarray(ycrcb_patch[:,:,0])\n",
    "                c2_array = np.asarray(ycrcb_patch[:,:,1])\n",
    "                c2_array = np.asarray(ycrcb_patch[:,:,2])\n",
    "                \n",
    "                # Convolutions - Random\n",
    "                conv_01 = convolve2D(c1_array,kernel_01_mean)\n",
    "                conv_02 = convolve2D(c2_array,kernel_02_mean)\n",
    "                conv_03 = convolve2D(c3_array,kernel_03_mean)\n",
    "                \n",
    "                # Convolutions - Sobel\n",
    "                #conv_sobel_01 = convolve2D(c1_array,kernel_sobel)\n",
    "                #conv_sobel_02 = convolve2D(c2_array,kernel_sobel)\n",
    "                #conv_sobel_03 = convolve2D(c3_array,kernel_sobel)                \n",
    "                \n",
    "                # Writing output            \n",
    "                patch_output = file_name.replace('.png','') + '_p' + str(patch_number) + '_conv_01.png'                \n",
    "                Image.fromarray(conv_01).convert('RGB').save('output/' + patch_output)\n",
    "                \n",
    "                patch_output = file_name.replace('.png','') + '_p' + str(patch_number) + '_conv_02.png'                \n",
    "                Image.fromarray(conv_02).convert('RGB').save('output/' + patch_output)\n",
    "                \n",
    "                patch_output = file_name.replace('.png','') + '_p' + str(patch_number) + '_conv_03.png'                \n",
    "                Image.fromarray(conv_03).convert('RGB').save('output/' + patch_output)                        \n",
    "                \n",
    "                # Updating height loop var\n",
    "                height_img = height_img + stride_pixels                                \n",
    "                patch_number = patch_number + 1\n",
    "\n",
    "            # Updating width loop var\n",
    "            width_img = width_img + stride_pixels       \n",
    "        \n",
    "        # Looping through files\n",
    "        print('Processed file: {}'.format(file_name))"
   ]
  },
  {
   "cell_type": "markdown",
   "metadata": {},
   "source": [
    "### ReLu"
   ]
  },
  {
   "cell_type": "code",
   "execution_count": 22,
   "metadata": {},
   "outputs": [],
   "source": [
    "def relu(X):\n",
    "   return np.maximum(0,X)"
   ]
  },
  {
   "cell_type": "code",
   "execution_count": 24,
   "metadata": {},
   "outputs": [
    {
     "name": "stdout",
     "output_type": "stream",
     "text": [
      "Processed file: orig_0200.png\n"
     ]
    }
   ],
   "source": [
    "for file_name in os.listdir('plates/originals/'):\n",
    "           \n",
    "    if file_name.endswith(\"0200.png\"):\n",
    "    \n",
    "        # Reading image\n",
    "        image = cv2.imread('plates/originals/' + file_name,cv2.IMREAD_GRAYSCALE)\n",
    "\n",
    "        # Setting initial patch center    \n",
    "        width_img=50\n",
    "\n",
    "        # Setting final dimensions\n",
    "        last_height_img=225\n",
    "        last_width_img=325\n",
    "        #last_height_img=75\n",
    "        #last_width_img=50\n",
    "\n",
    "        # Setting stride\n",
    "        stride_pixels=15\n",
    "\n",
    "        # Defining patch number\n",
    "        patch_number=1\n",
    "\n",
    "        while width_img <= last_width_img:\n",
    "\n",
    "            # Setting initial patch center    \n",
    "            height_img=50 \n",
    "\n",
    "            while height_img <= last_height_img:                   \n",
    "\n",
    "                # Defining some values\n",
    "                patch_center = np.array([height_img, width_img])        \n",
    "                patch_scale = 0.38\n",
    "\n",
    "                # Calc patch position and extract the patch\n",
    "                smaller_dim = np.min(image.shape[0:2])\n",
    "                patch_size = int(patch_scale * smaller_dim)\n",
    "                patch_x = int(patch_center[0] - patch_size / 2.)\n",
    "                patch_y = int(patch_center[1] - patch_size / 2.)\n",
    "                patch_image = image[patch_x:patch_x+patch_size, patch_y:patch_y+patch_size]\n",
    "\n",
    "                # Transforming gray scalte to bgr\n",
    "                rgb_patch = cv2.cvtColor(patch_image, cv2.COLOR_GRAY2BGR)\n",
    "\n",
    "                # Transforming bgr to ycrcb\n",
    "                ycrcb_patch = cv2.cvtColor(rgb_patch, cv2.COLOR_BGR2YCrCb)\n",
    "        \n",
    "                # Transforming image into an array\n",
    "                c1_array = np.asarray(ycrcb_patch[:,:,0])\n",
    "                c2_array = np.asarray(ycrcb_patch[:,:,1])\n",
    "                c2_array = np.asarray(ycrcb_patch[:,:,2])\n",
    "                \n",
    "                # Convolutions - Sobel\n",
    "                conv_sobel_01 = convolve2D(c1_array,kernel_01_mean)\n",
    "                conv_sobel_02 = convolve2D(c2_array,kernel_02_mean)\n",
    "                conv_sobel_03 = convolve2D(c3_array,kernel_03_mean)                \n",
    "                           \n",
    "                # ReLu\n",
    "                relu_01 = relu(conv_sobel_01)\n",
    "                relu_02 = relu(conv_sobel_02)\n",
    "                relu_03 = relu(conv_sobel_03)                \n",
    "                \n",
    "                # Writing output            \n",
    "                patch_output = file_name.replace('.png','') + '_p' + str(patch_number) + '_relu_01.png'                \n",
    "                Image.fromarray(relu_01).convert('RGB').save('output/' + patch_output)\n",
    "                \n",
    "                patch_output = file_name.replace('.png','') + '_p' + str(patch_number) + '_relu_02.png'                \n",
    "                Image.fromarray(relu_02).convert('RGB').save('output/' + patch_output)\n",
    "                \n",
    "                patch_output = file_name.replace('.png','') + '_p' + str(patch_number) + '_relu_03.png'                \n",
    "                Image.fromarray(relu_03).convert('RGB').save('output/' + patch_output)                        \n",
    "                \n",
    "                # Updating height loop var\n",
    "                height_img = height_img + stride_pixels                                \n",
    "                patch_number = patch_number + 1\n",
    "\n",
    "            # Updating width loop var\n",
    "            width_img = width_img + stride_pixels       \n",
    "        \n",
    "        # Looping through files\n",
    "        print('Processed file: {}'.format(file_name))"
   ]
  }
 ],
 "metadata": {
  "kernelspec": {
   "display_name": "Python 3",
   "language": "python",
   "name": "python3"
  },
  "language_info": {
   "codemirror_mode": {
    "name": "ipython",
    "version": 3
   },
   "file_extension": ".py",
   "mimetype": "text/x-python",
   "name": "python",
   "nbconvert_exporter": "python",
   "pygments_lexer": "ipython3",
   "version": "3.8.5"
  }
 },
 "nbformat": 4,
 "nbformat_minor": 4
}
