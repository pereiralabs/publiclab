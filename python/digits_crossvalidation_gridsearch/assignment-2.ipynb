{
 "cells": [
  {
   "cell_type": "markdown",
   "metadata": {},
   "source": [
    "# INF-616 - Tarefa 2\n",
    "\n",
    "Professor: Alexandre Ferreira -- melloferreira@ic.unicamp.br  \n",
    "Monitor: Lucas David -- ra188972@students.ic.unicamp.br\n",
    "\n",
    "Instituto de Computação - Unicamp  \n",
    "2018"
   ]
  },
  {
   "cell_type": "markdown",
   "metadata": {},
   "source": [
    "## Classificação multi-classe"
   ]
  },
  {
   "cell_type": "code",
   "execution_count": 1,
   "metadata": {},
   "outputs": [],
   "source": [
    "from __future__ import print_function\n",
    "\n",
    "import numpy as np\n",
    "from sklearn import metrics, datasets\n",
    "from sklearn.model_selection import train_test_split\n",
    "import matplotlib.pyplot as plt\n",
    "%matplotlib inline\n",
    "\n",
    "np.random.seed(42)"
   ]
  },
  {
   "cell_type": "code",
   "execution_count": 2,
   "metadata": {},
   "outputs": [
    {
     "name": "stdout",
     "output_type": "stream",
     "text": [
      "samples in train: 449\n",
      "samples in test: 899\n",
      "features: 64\n",
      "classes: 10\n",
      "\n",
      "Some of the samples in digits:\n"
     ]
    },
    {
     "data": {
      "image/png": "[encoded data removed]",
      "text/plain": [
       "<matplotlib.figure.Figure at 0x7f54f83b5278>"
      ]
     },
     "metadata": {},
     "output_type": "display_data"
    }
   ],
   "source": [
    "x, y = datasets.load_digits(return_X_y=True)\n",
    "x_train, x_test, y_train, y_test = train_test_split(x, y,\n",
    "                                                    test_size=.5)\n",
    "x_train, x_valid, y_train, y_valid = train_test_split(x_train, y_train,\n",
    "                                                      test_size=1 / 2)\n",
    "print('samples in train: %i' % x_train.shape[0],\n",
    "      'samples in test: %i' % x_test.shape[0],\n",
    "      'features: %i' % x_train.shape[1],\n",
    "      'classes: %i' % (np.max(y_train) + 1),\n",
    "      sep='\\n', end='\\n\\n')\n",
    "print('Some of the samples in digits:')\n",
    "_ = plt.figure(figsize=(16, 9))\n",
    "for ix in range(4  * 8):\n",
    "    plt.subplot(4, 8, ix + 1)\n",
    "    plt.imshow(x_train[ix].reshape(8, 8), cmap='Greys')\n",
    "    plt.axis('off')"
   ]
  },
  {
   "cell_type": "markdown",
   "metadata": {},
   "source": [
    "**Teste múltiplos *hiper-parâmetros* e otimize um modelo a fim de corretamente classificar as amostras no primeiro conjunto de validação de dígitos**"
   ]
  },
  {
   "cell_type": "code",
   "execution_count": 3,
   "metadata": {},
   "outputs": [
    {
     "name": "stdout",
     "output_type": "stream",
     "text": [
      "best parameters are {'C': 0.01, 'kernel': 'linear'} with score 0.9643652561247216\n"
     ]
    }
   ],
   "source": [
    "# from ... import ...\n",
    "from sklearn import svm\n",
    "\n",
    "trials = [{'C': 1e-3, 'kernel': 'rbf'},\n",
    "          {'C': 1e-2, 'kernel': 'rbf'},\n",
    "          {'C': 1e-1, 'kernel': 'rbf'},\n",
    "          {'C': 1e0, 'kernel': 'rbf'},\n",
    "          {'C': 1e1, 'kernel': 'rbf'},\n",
    "          {'C': 1e2, 'kernel': 'rbf'},\n",
    "          {'C': 1e3, 'kernel': 'rbf'},\n",
    "          {'C': 1e-3, 'kernel': 'linear'},\n",
    "          {'C': 1e-2, 'kernel': 'linear'},\n",
    "          {'C': 1e-1, 'kernel': 'linear'},\n",
    "          {'C': 1e0, 'kernel': 'linear'},\n",
    "          {'C': 1e1, 'kernel': 'linear'},\n",
    "          {'C': 1e2, 'kernel': 'linear'},\n",
    "          {'C': 1e3, 'kernel': 'linear'}\n",
    "         ]\n",
    "\n",
    "# metric = ...\n",
    "metric = metrics.accuracy_score\n",
    "\n",
    "def find_best_params(trials, metric, train, valid):\n",
    "    scores = []\n",
    "    for params in trials:\n",
    "        # model = ...\n",
    "        model = svm.SVC(**params)\n",
    "        # model.fit(...)\n",
    "        model.fit(train[0],train[1])\n",
    "        # score = metric(actual, predicted)\n",
    "        pred = model.predict(valid[0])\n",
    "        score = metric(valid[1], pred)\n",
    "        scores.append(score)\n",
    "    return scores\n",
    "\n",
    "scores = find_best_params(trials, metric, (x_train, y_train), (x_valid, y_valid))\n",
    "best_ix = np.argmax(scores)\n",
    "best_params = trials[best_ix]\n",
    "\n",
    "print('best parameters are', best_params, 'with score', scores[best_ix])"
   ]
  },
  {
   "cell_type": "markdown",
   "metadata": {},
   "source": [
    "**Este modelo manteve a pontuação sobre o conjunto de teste?**"
   ]
  },
  {
   "cell_type": "code",
   "execution_count": 4,
   "metadata": {},
   "outputs": [
    {
     "name": "stdout",
     "output_type": "stream",
     "text": [
      "Acurácia: 0.9599555061179088\n",
      "\n",
      "Matriz de confusão: \n",
      " [[82  0  0  0  0  0  0  0  0  0]\n",
      " [ 0 89  0  0  0  0  0  0  0  0]\n",
      " [ 0  0 83  0  0  0  0  0  0  0]\n",
      " [ 0  0  0 86  0  1  0  2  4  0]\n",
      " [ 0  1  0  0 92  0  0  0  0  0]\n",
      " [ 0  0  0  0  0 95  1  1  0  2]\n",
      " [ 0  0  0  0  1  1 95  0  1  0]\n",
      " [ 0  0  0  0  0  0  0 87  0  0]\n",
      " [ 0  3  0  0  2  1  0  1 75  1]\n",
      " [ 1  1  0  1  0  1  0  7  2 79]]\n",
      "\n",
      "              precision    recall  f1-score   support\n",
      "\n",
      "          0       0.99      1.00      0.99        82\n",
      "          1       0.95      1.00      0.97        89\n",
      "          2       1.00      1.00      1.00        83\n",
      "          3       0.99      0.92      0.96        93\n",
      "          4       0.97      0.99      0.98        93\n",
      "          5       0.96      0.96      0.96        99\n",
      "          6       0.99      0.97      0.98        98\n",
      "          7       0.89      1.00      0.94        87\n",
      "          8       0.91      0.90      0.91        83\n",
      "          9       0.96      0.86      0.91        92\n",
      "\n",
      "avg / total       0.96      0.96      0.96       899\n",
      "\n",
      "best parameters are {'C': 0.001, 'kernel': 'linear'} with score 0.96440489432703\n"
     ]
    }
   ],
   "source": [
    "#Aplicando o melhor modelo anterior ao conjunto de teste\n",
    "from sklearn.metrics import classification_report, accuracy_score, confusion_matrix\n",
    "\n",
    "clf = svm.SVC(C=0.01, kernel='linear')\n",
    "y_pred = clf.fit(x_train, y_train).predict(x_test)\n",
    "print('Acurácia:', accuracy_score(y_test, y_pred))\n",
    "print('\\nMatriz de confusão: \\n', confusion_matrix(y_test, y_pred))\n",
    "print('\\n', classification_report(y_test, y_pred))\n",
    "\n",
    "\n",
    "#Descobrindo os melhores parâmetros para o teste\n",
    "scores = find_best_params(trials, metric, (x_train, y_train), (x_test,y_test))\n",
    "best_ix = np.argmax(scores)\n",
    "best_params = trials[best_ix]\n",
    "\n",
    "print('best parameters are', best_params, 'with score', scores[best_ix])"
   ]
  },
  {
   "cell_type": "markdown",
   "metadata": {},
   "source": [
    "**Sub-dividir conjuntos já pequenos é quase sempre inviável. Treine sobre `(x_small_train, y_small_train)` e reporte sua métrica sobre o conjunto de teste:**"
   ]
  },
  {
   "cell_type": "code",
   "execution_count": 5,
   "metadata": {},
   "outputs": [
    {
     "name": "stdout",
     "output_type": "stream",
     "text": [
      "samples in reduced train: 22\n"
     ]
    }
   ],
   "source": [
    "x_small_all, _, y_small_all, _ = train_test_split(x_train, y_train, test_size=.9)\n",
    "x_small_train, x_small_valid, y_small_train, y_small_valid = train_test_split(\n",
    "    x_small_all, y_small_all, test_size=.5)\n",
    "print('samples in reduced train:', x_small_train.shape[0])"
   ]
  },
  {
   "cell_type": "code",
   "execution_count": 6,
   "metadata": {},
   "outputs": [
    {
     "name": "stdout",
     "output_type": "stream",
     "text": [
      "best parameters are {'C': 0.01, 'kernel': 'linear'} with score 0.6818181818181818\n"
     ]
    }
   ],
   "source": [
    "#Encontrando os melhores parametros com SMALL train\n",
    "scores = find_best_params(trials, metric, (x_small_train, y_small_train), (x_small_valid,y_small_valid))\n",
    "best_ix = np.argmax(scores)\n",
    "best_params = trials[best_ix]\n",
    "\n",
    "print('best parameters are', best_params, 'with score', scores[best_ix])"
   ]
  },
  {
   "cell_type": "code",
   "execution_count": 9,
   "metadata": {},
   "outputs": [
    {
     "name": "stdout",
     "output_type": "stream",
     "text": [
      "Acurácia: 0.7096774193548387\n",
      "\n",
      "Matriz de confusão: \n",
      " [[82  0  0  0  0  0  0  0  0  0]\n",
      " [ 0 87  1  0  0  0  1  0  0  0]\n",
      " [ 0 12 69  0  0  0  0  0  2  0]\n",
      " [ 0  9  7 67  0  0  0  6  2  2]\n",
      " [ 2 13  0  0 70  0  8  0  0  0]\n",
      " [ 2  2  6 10  4 67  0  0  6  2]\n",
      " [ 6  0  0  0  0  0 78  0 14  0]\n",
      " [ 0  2  0  0 27  0  0 57  1  0]\n",
      " [ 0 22  9  1  4  1  0  0 38  8]\n",
      " [ 0  5  0 45 11  3  0  0  5 23]]\n",
      "\n",
      "              precision    recall  f1-score   support\n",
      "\n",
      "          0       0.89      1.00      0.94        82\n",
      "          1       0.57      0.98      0.72        89\n",
      "          2       0.75      0.83      0.79        83\n",
      "          3       0.54      0.72      0.62        93\n",
      "          4       0.60      0.75      0.67        93\n",
      "          5       0.94      0.68      0.79        99\n",
      "          6       0.90      0.80      0.84        98\n",
      "          7       0.90      0.66      0.76        87\n",
      "          8       0.56      0.46      0.50        83\n",
      "          9       0.66      0.25      0.36        92\n",
      "\n",
      "avg / total       0.73      0.71      0.70       899\n",
      "\n"
     ]
    }
   ],
   "source": [
    "#Aplicando o melhor modelo anterior ao conjunto de teste\n",
    "clf = svm.SVC(C=0.01, kernel='linear')\n",
    "y_pred = clf.fit(x_small_train, y_small_train).predict(x_test)\n",
    "print('Acurácia:', accuracy_score(y_test, y_pred))\n",
    "print('\\nMatriz de confusão: \\n', confusion_matrix(y_test, y_pred))\n",
    "print('\\n', classification_report(y_test, y_pred))"
   ]
  },
  {
   "cell_type": "markdown",
   "metadata": {},
   "source": [
    "**Utilize *cross-validation* e verifique a acurácia em teste.**"
   ]
  },
  {
   "cell_type": "code",
   "execution_count": 8,
   "metadata": {},
   "outputs": [
    {
     "name": "stdout",
     "output_type": "stream",
     "text": [
      "Fitting 3 folds for each of 14 candidates, totalling 42 fits\n"
     ]
    },
    {
     "name": "stderr",
     "output_type": "stream",
     "text": [
      "[Parallel(n_jobs=4)]: Done  42 out of  42 | elapsed:    6.6s finished\n"
     ]
    },
    {
     "name": "stdout",
     "output_type": "stream",
     "text": [
      "melhores parâmetros: {'C': 0.001, 'kernel': 'linear'}\n",
      "melhor métrica avaliada: 0.9515859766277128\n"
     ]
    }
   ],
   "source": [
    "from sklearn.model_selection import GridSearchCV\n",
    "from sklearn.linear_model import LogisticRegression\n",
    "\n",
    "folds = 3\n",
    "\n",
    "# search best parameters...\n",
    "# evaluate over test set...\n",
    "\n",
    "# Um outro jeito, em uma única linha, é usar a classe GridSearchCV:\n",
    "metric = 'accuracy'\n",
    "parameters = {\n",
    "    'C': [1e-3, 1e-2, 1e-1, 1e0, 1e1, 1e2, 1e3],\n",
    "    'kernel': ['rbf', 'linear']\n",
    "}\n",
    "model = svm.SVC()\n",
    "grid = GridSearchCV(model, parameters,\n",
    "                    scoring=metric,\n",
    "                    cv=folds,\n",
    "                    verbose=1,\n",
    "                    n_jobs=4)\n",
    "grid.fit(x, y)\n",
    "print('melhores parâmetros:', grid.best_params_)\n",
    "print('melhor métrica avaliada:', grid.best_score_)"
   ]
  }
 ],
 "metadata": {
  "kernelspec": {
   "display_name": "Python 3",
   "language": "python",
   "name": "python3"
  },
  "language_info": {
   "codemirror_mode": {
    "name": "ipython",
    "version": 3
   },
   "file_extension": ".py",
   "mimetype": "text/x-python",
   "name": "python",
   "nbconvert_exporter": "python",
   "pygments_lexer": "ipython3",
   "version": "3.6.4"
  }
 },
 "nbformat": 4,
 "nbformat_minor": 2
}
