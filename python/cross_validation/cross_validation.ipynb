{
 "cells": [
  {
   "cell_type": "markdown",
   "metadata": {},
   "source": [
    "** Dataset Breast Cancer Wisconsin **"
   ]
  },
  {
   "cell_type": "code",
   "execution_count": 1,
   "metadata": {
    "collapsed": true
   },
   "outputs": [],
   "source": [
    "# Leitura do dataset diretamente do website da UCI com pandas\n",
    "import numpy as np\n",
    "import pandas as pd\n",
    "df = pd.read_csv('https://archive.ics.uci.edu/ml/machine-learning-databases/'+\n",
    "                 'breast-cancer-wisconsin/wdbc.data',\n",
    "                 header=None)"
   ]
  },
  {
   "cell_type": "code",
   "execution_count": 2,
   "metadata": {
    "collapsed": true
   },
   "outputs": [],
   "source": [
    "# Coloca as 30 features num NumPy array X os label num array y\n",
    "X = df.loc[:, 2:].values\n",
    "y = df.loc[:, 1].values"
   ]
  },
  {
   "cell_type": "code",
   "execution_count": 3,
   "metadata": {
    "collapsed": true
   },
   "outputs": [],
   "source": [
    "# Transforma as representações 'M' e 'B' dos labels para inteiros\n",
    "from sklearn.preprocessing import LabelEncoder\n",
    "le = LabelEncoder()\n",
    "y = le.fit_transform(y)"
   ]
  },
  {
   "cell_type": "code",
   "execution_count": 4,
   "metadata": {},
   "outputs": [
    {
     "data": {
      "text/plain": [
       "array([1, 0])"
      ]
     },
     "execution_count": 4,
     "metadata": {},
     "output_type": "execute_result"
    }
   ],
   "source": [
    "# Mostra como a transformação é feita\n",
    "le.transform(['M', 'B'])"
   ]
  },
  {
   "cell_type": "code",
   "execution_count": 5,
   "metadata": {
    "collapsed": true
   },
   "outputs": [],
   "source": [
    "# Divide os dados entre treino (80%) e teste (20%)\n",
    "from sklearn.model_selection import train_test_split\n",
    "X_train, X_test, y_train, y_test = train_test_split(X, y, test_size=0.20, random_state=1)"
   ]
  },
  {
   "cell_type": "code",
   "execution_count": 6,
   "metadata": {
    "collapsed": true
   },
   "outputs": [],
   "source": [
    "from sklearn.preprocessing import StandardScaler\n",
    "from sklearn.decomposition import PCA\n",
    "from sklearn.linear_model import LogisticRegression\n",
    "from sklearn.pipeline import Pipeline"
   ]
  },
  {
   "cell_type": "markdown",
   "metadata": {},
   "source": [
    "** Pipeline **\n",
    "\n",
    "O objeto pipeline recebe como entrada uma lista de tuplas (identificador, valor) sobre as quais executaremos operações de transformação e classficação\n",
    "\n",
    "Neste exemplo temos 2 transfromadores e 1 classificador:\n",
    "- Features na mesma escala\n",
    "- Redução de dimensionalidade\n",
    "- Regressão logistica"
   ]
  },
  {
   "cell_type": "markdown",
   "metadata": {},
   "source": [
    "![Pipeline](imgs/pipeline.png)"
   ]
  },
  {
   "cell_type": "code",
   "execution_count": 7,
   "metadata": {},
   "outputs": [
    {
     "name": "stdout",
     "output_type": "stream",
     "text": [
      "Acurácia do teste: 0.947\n"
     ]
    }
   ],
   "source": [
    "# Definição e execução do pipeline\n",
    "pipe_lr = Pipeline([('scl', StandardScaler()),\n",
    "                    ('pca', PCA(n_components=2)),\n",
    "                    ('clf', LogisticRegression(random_state=1))])\n",
    "pipe_lr.fit(X_train, y_train)\n",
    "print('Acurácia do teste: %.3f' % pipe_lr.score(X_test, y_test))"
   ]
  },
  {
   "cell_type": "code",
   "execution_count": 8,
   "metadata": {
    "collapsed": true
   },
   "outputs": [],
   "source": [
    "# Inicializa o StratifiedKFold com 10 folds sobre os labels y_train \n",
    "from sklearn.model_selection import StratifiedKFold\n",
    "kfold = StratifiedKFold(n_splits=10,random_state=1)"
   ]
  },
  {
   "cell_type": "code",
   "execution_count": 9,
   "metadata": {},
   "outputs": [
    {
     "name": "stdout",
     "output_type": "stream",
     "text": [
      "Fold:  1, Dist. do treino: [256 153], Dist. da validação: [29 17], Acc: 0.891\n",
      "Fold:  2, Dist. do treino: [256 153], Dist. da validação: [29 17], Acc: 0.978\n",
      "Fold:  3, Dist. do treino: [256 153], Dist. da validação: [29 17], Acc: 0.978\n",
      "Fold:  4, Dist. do treino: [256 153], Dist. da validação: [29 17], Acc: 0.913\n",
      "Fold:  5, Dist. do treino: [256 153], Dist. da validação: [29 17], Acc: 0.935\n",
      "Fold:  6, Dist. do treino: [257 153], Dist. da validação: [28 17], Acc: 0.978\n",
      "Fold:  7, Dist. do treino: [257 153], Dist. da validação: [28 17], Acc: 0.933\n",
      "Fold:  8, Dist. do treino: [257 153], Dist. da validação: [28 17], Acc: 0.956\n",
      "Fold:  9, Dist. do treino: [257 153], Dist. da validação: [28 17], Acc: 0.978\n",
      "Fold: 10, Dist. do treino: [257 153], Dist. da validação: [28 17], Acc: 0.956\n"
     ]
    }
   ],
   "source": [
    "# Executa a validação cruzada conforme definido em kfold\n",
    "# A lista scores armazenará todos os resultados\n",
    "scores = []\n",
    "for k, (train, val) in enumerate(kfold.split(X_train, y_train)):\n",
    "    # As variáveis train e val contém os índices dos exemplos \n",
    "    # de treino e validação, respectivamente\n",
    "    pipe_lr.fit(X_train[train], y_train[train])\n",
    "    score = pipe_lr.score(X_train[val], y_train[val])\n",
    "    scores.append(score)\n",
    "    print('Fold: %2d, Dist. do treino: %s, Dist. da validação: %s, Acc: %.3f' % (k+1,\n",
    "                    np.bincount(y_train[train]), np.bincount(y_train[val]), score))"
   ]
  },
  {
   "cell_type": "code",
   "execution_count": 10,
   "metadata": {},
   "outputs": [
    {
     "name": "stdout",
     "output_type": "stream",
     "text": [
      "Acurácia Cross Validada: 0.950 +/- 0.029\n"
     ]
    }
   ],
   "source": [
    "print('Acurácia Cross Validada: %.3f +/- %.3f' % (np.mean(scores), np.std(scores)))"
   ]
  },
  {
   "cell_type": "code",
   "execution_count": 11,
   "metadata": {},
   "outputs": [
    {
     "name": "stdout",
     "output_type": "stream",
     "text": [
      "Acurácias por iteração: [0.89130435 0.97826087 0.97826087 0.91304348 0.93478261 0.97777778\n",
      " 0.93333333 0.95555556 0.97777778 0.95555556]\n"
     ]
    }
   ],
   "source": [
    "# Alternativa de validação cruzada dentro do Scikit-learn\n",
    "# Esta função lê dados estratificados por padrão\n",
    "from sklearn.model_selection import cross_val_score\n",
    "scores_2 = cross_val_score(estimator=pipe_lr,\n",
    "                         X=X_train,\n",
    "                         y=y_train,\n",
    "                         cv=10,\n",
    "                         n_jobs=1)\n",
    "print('Acurácias por iteração: %s' % scores_2)"
   ]
  },
  {
   "cell_type": "code",
   "execution_count": 12,
   "metadata": {},
   "outputs": [
    {
     "name": "stdout",
     "output_type": "stream",
     "text": [
      "Acurácia Cross Validada: 0.950 +/- 0.029\n"
     ]
    }
   ],
   "source": [
    "print('Acurácia Cross Validada: %.3f +/- %.3f' % (np.mean(scores_2), np.std(scores_2)))"
   ]
  },
  {
   "cell_type": "code",
   "execution_count": 32,
   "metadata": {},
   "outputs": [
    {
     "data": {
      "image/png": "[encoded data removed]",
      "text/plain": [
       "<matplotlib.figure.Figure at 0x7f4e73572d30>"
      ]
     },
     "metadata": {},
     "output_type": "display_data"
    }
   ],
   "source": [
    "import matplotlib.pyplot as plt\n",
    "k_range = list(range(1, 11))\n",
    "k_scores = scores_2\n",
    "\n",
    "plt.plot(k_range, k_scores)\n",
    "plt.xlabel('k-fold')\n",
    "plt.ylabel('Acurácia')\n",
    "plt.show()"
   ]
  },
  {
   "cell_type": "markdown",
   "metadata": {},
   "source": [
    "## Outras métricas além da acurácia"
   ]
  },
  {
   "cell_type": "code",
   "execution_count": 14,
   "metadata": {},
   "outputs": [
    {
     "name": "stdout",
     "output_type": "stream",
     "text": [
      "F1 Macro Cross Validada: 0.946 +/- 0.031\n"
     ]
    }
   ],
   "source": [
    "# F1\n",
    "scores_3 = cross_val_score(estimator=pipe_lr,\n",
    "                         X=X_train,\n",
    "                         y=y_train,\n",
    "                         cv=10,\n",
    "                         scoring='f1_macro',\n",
    "                         n_jobs=1)\n",
    "print('F1 Macro Cross Validada: %.3f +/- %.3f' % (np.mean(scores_3), np.std(scores_3)))"
   ]
  },
  {
   "cell_type": "code",
   "execution_count": 15,
   "metadata": {},
   "outputs": [
    {
     "name": "stdout",
     "output_type": "stream",
     "text": [
      "Acurácia Normalizada Cross Validada: 0.946 +/- 0.027\n"
     ]
    }
   ],
   "source": [
    "# Acurácia normalizada / balanceada\n",
    "scores_4 = cross_val_score(estimator=pipe_lr,\n",
    "                         X=X_train,\n",
    "                         y=y_train,\n",
    "                         cv=10,\n",
    "                         scoring='recall_macro',\n",
    "                         n_jobs=1)\n",
    "print('Acurácia Normalizada Cross Validada: %.3f +/- %.3f' % (np.mean(scores_4), np.std(scores_4)))"
   ]
  },
  {
   "cell_type": "markdown",
   "metadata": {},
   "source": [
    "** Todas as métricas **"
   ]
  },
  {
   "cell_type": "code",
   "execution_count": 16,
   "metadata": {},
   "outputs": [
    {
     "name": "stdout",
     "output_type": "stream",
     "text": [
      "explained_variance\n",
      "r2\n",
      "neg_median_absolute_error\n",
      "neg_mean_absolute_error\n",
      "neg_mean_squared_error\n",
      "neg_mean_squared_log_error\n",
      "median_absolute_error\n",
      "mean_absolute_error\n",
      "mean_squared_error\n",
      "accuracy\n",
      "roc_auc\n",
      "average_precision\n",
      "log_loss\n",
      "neg_log_loss\n",
      "adjusted_rand_score\n",
      "homogeneity_score\n",
      "completeness_score\n",
      "v_measure_score\n",
      "mutual_info_score\n",
      "adjusted_mutual_info_score\n",
      "normalized_mutual_info_score\n",
      "fowlkes_mallows_score\n",
      "precision\n",
      "precision_macro\n",
      "precision_micro\n",
      "precision_samples\n",
      "precision_weighted\n",
      "recall\n",
      "recall_macro\n",
      "recall_micro\n",
      "recall_samples\n",
      "recall_weighted\n",
      "f1\n",
      "f1_macro\n",
      "f1_micro\n",
      "f1_samples\n",
      "f1_weighted\n"
     ]
    }
   ],
   "source": [
    "from sklearn.metrics import SCORERS\n",
    "for k, v in SCORERS.items():\n",
    "    print(k)"
   ]
  },
  {
   "cell_type": "markdown",
   "metadata": {},
   "source": [
    "** Comparação de modelos **"
   ]
  },
  {
   "cell_type": "code",
   "execution_count": 17,
   "metadata": {},
   "outputs": [
    {
     "name": "stdout",
     "output_type": "stream",
     "text": [
      "Acurácia da CV   : 0.932\n",
      "Acurácia do teste: 0.912\n"
     ]
    }
   ],
   "source": [
    "# 10-fold CV com KNN\n",
    "from sklearn.metrics import accuracy_score\n",
    "from sklearn.neighbors import KNeighborsClassifier\n",
    "knn_clf = KNeighborsClassifier(n_neighbors=20)\n",
    "print('Acurácia da CV   : %.3f' % cross_val_score(knn_clf, X_train, y_train, cv=10, scoring='accuracy').mean())\n",
    "y_pred = knn_clf.fit(X_train, y_train).predict(X_test)\n",
    "print('Acurácia do teste: %.3f' % accuracy_score(y_test, y_pred))"
   ]
  },
  {
   "cell_type": "code",
   "execution_count": 18,
   "metadata": {},
   "outputs": [
    {
     "name": "stdout",
     "output_type": "stream",
     "text": [
      "Acurácia da CV   : 0.952\n",
      "Acurácia do teste: 0.947\n"
     ]
    }
   ],
   "source": [
    "# 10-fold CV com SVM linear\n",
    "from sklearn import svm\n",
    "svm_clf = svm.SVC(kernel='linear', C=0.1)\n",
    "print('Acurácia da CV   : %.3f' % cross_val_score(svm_clf, X_train, y_train, cv=10, scoring='accuracy').mean())\n",
    "y_pred = svm_clf.fit(X_train, y_train).predict(X_test)\n",
    "print('Acurácia do teste: %.3f' % accuracy_score(y_test, y_pred))"
   ]
  },
  {
   "cell_type": "code",
   "execution_count": 19,
   "metadata": {},
   "outputs": [
    {
     "name": "stdout",
     "output_type": "stream",
     "text": [
      "Acurácia da CV   : 0.945\n",
      "Acurácia do teste: 0.956\n"
     ]
    }
   ],
   "source": [
    "# 10-fold CV com Logistic Regression\n",
    "lr_clf = LogisticRegression()\n",
    "print('Acurácia da CV   : %.3f' % cross_val_score(lr_clf, X_train, y_train, cv=10, scoring='accuracy').mean())\n",
    "y_pred = lr_clf.fit(X_train, y_train).predict(X_test)\n",
    "print('Acurácia do teste: %.3f' % accuracy_score(y_test, y_pred))"
   ]
  },
  {
   "cell_type": "markdown",
   "metadata": {},
   "source": [
    "** Logistic Regression versus SVM linear: **\n",
    "De modo geral, ambos possuem resultados similares. LR é mais suscetível a outliner por tentar maximizar as probabilidades condionais do treino. SVMs se preocupam mais com os support vectors (pontos próximos do hiperplano). "
   ]
  },
  {
   "cell_type": "markdown",
   "metadata": {},
   "source": [
    "## Seleção de features "
   ]
  },
  {
   "cell_type": "markdown",
   "metadata": {},
   "source": [
    "** Dataset Adverstising **"
   ]
  },
  {
   "cell_type": "code",
   "execution_count": 20,
   "metadata": {
    "collapsed": true
   },
   "outputs": [],
   "source": [
    "# Carrega o dataset\n",
    "data = pd.read_csv('http://www-bcf.usc.edu/~gareth/ISL/Advertising.csv', index_col=0)"
   ]
  },
  {
   "cell_type": "code",
   "execution_count": 21,
   "metadata": {
    "collapsed": true
   },
   "outputs": [],
   "source": [
    "# Cria uma lista com 3 features\n",
    "feature_cols = ['TV', 'radio', 'newspaper']\n",
    "\n",
    "# Seleciona um subset do DataFrame com a lista de features \n",
    "X = data[feature_cols]\n",
    "\n",
    "# Seleciona a coluna Sales como resposta\n",
    "y = data.sales"
   ]
  },
  {
   "cell_type": "markdown",
   "metadata": {},
   "source": [
    "** Devemos manter a coluna newspaper na regressão? **"
   ]
  },
  {
   "cell_type": "code",
   "execution_count": 22,
   "metadata": {},
   "outputs": [
    {
     "name": "stdout",
     "output_type": "stream",
     "text": [
      "[-3.56038438 -3.29767522 -2.08943356 -2.82474283 -1.3027754  -1.74163618\n",
      " -8.17338214 -2.11409746 -3.04273109 -2.45281793]\n"
     ]
    }
   ],
   "source": [
    "# 10-fold CV com todas as 3 features\n",
    "from sklearn.linear_model import LinearRegression\n",
    "lm = LinearRegression()\n",
    "scores = cross_val_score(lm, X, y, cv=10, scoring='neg_mean_squared_error')\n",
    "print(scores)"
   ]
  },
  {
   "cell_type": "code",
   "execution_count": 23,
   "metadata": {},
   "outputs": [
    {
     "name": "stdout",
     "output_type": "stream",
     "text": [
      "[3.56038438 3.29767522 2.08943356 2.82474283 1.3027754  1.74163618\n",
      " 8.17338214 2.11409746 3.04273109 2.45281793]\n"
     ]
    }
   ],
   "source": [
    "# Ajusta o sinal dos scores MSE\n",
    "mse_scores = -scores\n",
    "print(mse_scores)"
   ]
  },
  {
   "cell_type": "code",
   "execution_count": 24,
   "metadata": {},
   "outputs": [
    {
     "name": "stdout",
     "output_type": "stream",
     "text": [
      "[1.88689808 1.81595022 1.44548731 1.68069713 1.14139187 1.31971064\n",
      " 2.85891276 1.45399362 1.7443426  1.56614748]\n"
     ]
    }
   ],
   "source": [
    "# Converte de MSE para RMSE\n",
    "rmse_scores = np.sqrt(mse_scores)\n",
    "print(rmse_scores)"
   ]
  },
  {
   "cell_type": "code",
   "execution_count": 25,
   "metadata": {},
   "outputs": [
    {
     "name": "stdout",
     "output_type": "stream",
     "text": [
      "1.6913531708051797\n"
     ]
    }
   ],
   "source": [
    "# Calcula o RMSE médio\n",
    "print(rmse_scores.mean())"
   ]
  },
  {
   "cell_type": "code",
   "execution_count": 26,
   "metadata": {},
   "outputs": [
    {
     "name": "stdout",
     "output_type": "stream",
     "text": [
      "1.6796748419090766\n"
     ]
    }
   ],
   "source": [
    "# 10-fold CV com 2 features (excluindo newspaper)\n",
    "feature_cols = ['TV', 'radio']\n",
    "X = data[feature_cols]\n",
    "print(np.sqrt(-cross_val_score(lm, X, y, cv=10, scoring='neg_mean_squared_error')).mean())"
   ]
  },
  {
   "cell_type": "markdown",
   "metadata": {},
   "source": [
    "** Verificando **\n",
    "\n",
    "Método estatístico univariado para selecionar as melhores features:\n",
    "- SelectKBest remove todas as features exceto as top-k com melhor score\n",
    "- f_regression estima o grau de dependencia linear entre 2 variáveis aleatórias"
   ]
  },
  {
   "cell_type": "code",
   "execution_count": 27,
   "metadata": {},
   "outputs": [
    {
     "name": "stdout",
     "output_type": "stream",
     "text": [
      "Formato original (200, 3)\n",
      "Formato sem a feature newspaper (200, 2)\n"
     ]
    }
   ],
   "source": [
    "from sklearn.feature_selection import SelectKBest\n",
    "from sklearn.feature_selection import f_regression\n",
    "\n",
    "feature_cols = ['TV', 'radio', 'newspaper']\n",
    "X = data[feature_cols]\n",
    "print('Formato original {}'.format(X.shape))\n",
    "\n",
    "X_new = SelectKBest(f_regression, k=2).fit_transform(X, y)\n",
    "print('Formato sem a feature newspaper {}'.format(X_new.shape))"
   ]
  },
  {
   "cell_type": "markdown",
   "metadata": {},
   "source": [
    "## Curvas de Validação"
   ]
  },
  {
   "cell_type": "code",
   "execution_count": 28,
   "metadata": {
    "collapsed": true
   },
   "outputs": [],
   "source": [
    "import matplotlib.pyplot as plt\n",
    "import numpy as np\n",
    "\n",
    "from sklearn.datasets import load_digits\n",
    "from sklearn.svm import SVC\n",
    "from sklearn.model_selection import validation_curve"
   ]
  },
  {
   "cell_type": "code",
   "execution_count": 29,
   "metadata": {
    "collapsed": true
   },
   "outputs": [],
   "source": [
    "digits = load_digits()\n",
    "X, y = digits.data, digits.target"
   ]
  },
  {
   "cell_type": "code",
   "execution_count": 30,
   "metadata": {
    "collapsed": true
   },
   "outputs": [],
   "source": [
    "param_range = np.logspace(-6, -1, 5)\n",
    "train_scores, test_scores = validation_curve(\n",
    "    SVC(), X, y, param_name=\"gamma\", param_range=param_range,\n",
    "    cv=10, scoring=\"accuracy\", n_jobs=1)\n",
    "train_scores_mean = np.mean(train_scores, axis=1)\n",
    "train_scores_std = np.std(train_scores, axis=1)\n",
    "test_scores_mean = np.mean(test_scores, axis=1)\n",
    "test_scores_std = np.std(test_scores, axis=1)"
   ]
  },
  {
   "cell_type": "code",
   "execution_count": 31,
   "metadata": {},
   "outputs": [
    {
     "data": {
      "image/png": "[encoded data removed]",
      "text/plain": [
       "<matplotlib.figure.Figure at 0x7f4e73289860>"
      ]
     },
     "metadata": {},
     "output_type": "display_data"
    }
   ],
   "source": [
    "plt.title(\"Curva de Validação com SVM\")\n",
    "plt.xlabel(\"$\\gamma$\")\n",
    "plt.ylabel(\"Acurácia\")\n",
    "plt.ylim(0.0, 1.1)\n",
    "lw = 2\n",
    "plt.semilogx(param_range, train_scores_mean, label=\"Acurácia de treinamento\",\n",
    "             color=\"darkorange\", lw=lw)\n",
    "plt.fill_between(param_range, train_scores_mean - train_scores_std,\n",
    "                 train_scores_mean + train_scores_std, alpha=0.2,\n",
    "                 color=\"darkorange\", lw=lw)\n",
    "plt.semilogx(param_range, test_scores_mean, label=\"Acurácia da validação cruzada\",\n",
    "             color=\"navy\", lw=lw)\n",
    "plt.fill_between(param_range, test_scores_mean - test_scores_std,\n",
    "                 test_scores_mean + test_scores_std, alpha=0.2,\n",
    "                 color=\"navy\", lw=lw)\n",
    "plt.legend(loc=\"best\")\n",
    "plt.show()"
   ]
  },
  {
   "cell_type": "markdown",
   "metadata": {},
   "source": [
    "- O plot mostra diferentes valores para o parâmetro gamma.\n",
    "- Esquerda: valores baixo para ambos --> underfitting\n",
    "- Direita: valor baixo apenas para validação, mas alto no treino --> overfitting\n",
    "- Centro: Melhores valores para gamma"
   ]
  }
 ],
 "metadata": {
  "kernelspec": {
   "display_name": "Python 3",
   "language": "python",
   "name": "python3"
  },
  "language_info": {
   "codemirror_mode": {
    "name": "ipython",
    "version": 3
   },
   "file_extension": ".py",
   "mimetype": "text/x-python",
   "name": "python",
   "nbconvert_exporter": "python",
   "pygments_lexer": "ipython3",
   "version": "3.6.3"
  }
 },
 "nbformat": 4,
 "nbformat_minor": 2
}
