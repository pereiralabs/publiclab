{
 "cells": [
  {
   "cell_type": "markdown",
   "metadata": {},
   "source": [
    "# Tarefa 04 - Verificação Facial com Redes Siamesas\n",
    "\n",
    "Nesta tarefa, você irá construir e treinar uma rede siamesa para o problema de verificação facial. A rede irá receber um par de imagens e deverá dizer se elas foram tiradas da mesma pessoa ou de pessoas diferentes. Para isso, pedimos que você defina o modelo da sua arquitetura siamesa, carregue os dados, treine a rede e avalie sua performance no conjunto de teste.\n",
    "\n",
    "------------\n",
    "## IMPORTANTE\n",
    "##### Verifique os pontos abaixo antes de começar a tarefa:\n",
    "- Faça o download dos dados em https://goo.gl/yoEBsF e descomprima na mesma pasta deste notebook.\n",
    "- Verifique se a pasta `INF0618-Tarefa04-faces` está no mesmo diretório deste notebook. Ela deverá conter as pastas `train`, `test`, `val` e também os arquivos `train_pairs.txt`, `test_pairs.txt` e `val_pairs.txt`. \n",
    "- Não há necessidade de alterar os códigos das sessões `Imports` e `Dataset`.\n",
    "-----------\n",
    "\n",
    "\n",
    "As tarefas são:\n",
    "\n",
    "**1) Definição da arquitetura [0.25 pts]**\n",
    "- Defina a arquitetura base que será utilizada em cada branch da rede siamesa;\n",
    "- Defina os inputs e conecte-os a arquitetura base;\n",
    "- Calcule a distância euclideana dos outputs de cada branch;\n",
    "\n",
    "**2) Treinamento [0.25 pts]**\n",
    "- Compile o seu modelo, definindo a contrastive loss e qual o otimizador que será utilizado;\n",
    "- Defina também número de batches e número de épocas;\n",
    "- Treine para obter a maior acurácia que vocês conseguirem;\n",
    "\n",
    "**3) Teste [0.25 pts]**\n",
    "- Avalie o conjunto de teste e reporte a loss e a acurácia normalizada;\n",
    "\n",
    "**4) Conclusões [0.25 pts]**\n",
    "- Escreva um parágrafo resumindo o que você fez, as dificuldades que encontrou, o que deu certo/errado e as suas conclusões desta atividade.\n",
    "\n",
    "------\n",
    "\n",
    "## Imports"
   ]
  },
  {
   "cell_type": "code",
   "execution_count": 37,
   "metadata": {},
   "outputs": [],
   "source": [
    "import os\n",
    "import numpy as np\n",
    "from random import sample\n",
    "\n",
    "import matplotlib.pyplot as plt\n",
    "plt.rcParams['figure.figsize'] = (15,15) # Make the figures a bit bigger\n",
    "\n",
    "from keras.preprocessing.image import load_img, img_to_array\n",
    "\n",
    "#Add other imports that you might need\n",
    "from keras.layers import Input, Convolution2D, MaxPooling2D, Flatten, Dropout, Dense, Lambda, BatchNormalization\n",
    "from keras.models import Model\n",
    "from keras import backend as K\n",
    "from keras.optimizers import Adam,Adagrad"
   ]
  },
  {
   "cell_type": "markdown",
   "metadata": {},
   "source": [
    "# Dataset\n",
    "O dataset é composto de imagens de faces em diversas condições de iluminação e expressões faciais. As imagens foram centralizadas em relação às posições dos olhos. As identidades foram divididas de forma disjunta entre os conjuntos treino/validação/teste, que contam com 37/22/8 indivíduos com número variado de imagens por identidade.\n",
    "\n",
    "Dentro de cada conjunto, criamos todas as combinações de pares da mesma identidade (classe positiva) e limitamos a quantidade de pares de identidades diferentes (classe negativa) por este número. Dessa forma, cada conjunto está balanceado nas classes.\n",
    "\n",
    "** IMPORTANTE NÃO ALTERAR O NOME/LOCAL DAS IMAGENS** "
   ]
  },
  {
   "cell_type": "code",
   "execution_count": 2,
   "metadata": {},
   "outputs": [
    {
     "name": "stdout",
     "output_type": "stream",
     "text": [
      "# pairs in Train set:  245338\n",
      "# pairs in Val set:  22502\n",
      "# pairs in Test set:  19038\n"
     ]
    }
   ],
   "source": [
    "datasetDir = \"./INF0618-Tarefa04-faces\"\n",
    "trainPairFile = datasetDir + \"/train_pairs.txt\"\n",
    "valPairFile = datasetDir + \"/val_pairs.txt\"\n",
    "testPairFile = datasetDir + \"/test_pairs.txt\"\n",
    "\n",
    "input_shape = (28,28,3)\n",
    "\n",
    "def preProcessPair(line):\n",
    "    img1Path, img2Path, label = line.strip().split(\"\\t\")\n",
    "\n",
    "    img1 = img_to_array(load_img(img1Path, target_size=input_shape))\n",
    "    img1 = img1.astype('float32')\n",
    "    img1 /= 255.0\n",
    "\n",
    "    img2 = img_to_array(load_img(img2Path, target_size=input_shape))\n",
    "    img2 = img2.astype('float32')\n",
    "    img2 /= 255.0\n",
    "    \n",
    "    label = int(label)\n",
    "    \n",
    "    return img1, img2, label\n",
    "    \n",
    "#Read our dataset in batches\n",
    "def loadDatasetInBatches(pairFile = trainPairFile, batch_size=32):\n",
    "    with open(pairFile, \"r\") as f:\n",
    "        lines = f.readlines()\n",
    "    \n",
    "    while True:\n",
    "        shuffledLines = sample(lines, len(lines)) #shuffle images in each epoch\n",
    "        \n",
    "        leftBatch, rightBatch, labelList = [], [], []\n",
    "        nInBatch = 0\n",
    "        \n",
    "        #loop of one epoch\n",
    "        for idx in list(range(len(shuffledLines))):\n",
    "                        img1, img2, label = preProcessPair(shuffledLines[idx])\n",
    "    \n",
    "                        leftBatch.append(img1)\n",
    "                        rightBatch.append(img2)\n",
    "                        labelList.append(label)\n",
    "                        nInBatch += 1\n",
    "                        \n",
    "                        #if we already have one batch, yields it\n",
    "                        if nInBatch >= batch_size:\n",
    "                            yield [np.array(leftBatch),np.array(rightBatch)], np.array(labelList)\n",
    "                            leftBatch, rightBatch, labelList = [], [], []\n",
    "                            nInBatch = 0\n",
    "\n",
    "        #yield the remaining of the batch\n",
    "        if nInBatch > 0:\n",
    "            yield [np.array(leftBatch),np.array(rightBatch)], np.array(labelList)\n",
    "\n",
    "def getDatasetSize(pairFile):\n",
    "    with open(pairFile, \"r\") as f:\n",
    "        lines = f.readlines()\n",
    "    return len(lines)\n",
    "\n",
    "               \n",
    "def plotPair(img1, img2):\n",
    "    fig = plt.figure(figsize=(5,5))\n",
    "    ax = fig.add_subplot(121)\n",
    "    ax.imshow(np.uint8(img1.reshape(input_shape)*255.0), interpolation='nearest')\n",
    "    \n",
    "    ax = fig.add_subplot(122)\n",
    "    ax.imshow(np.uint8(img2.reshape(input_shape)*255.0), interpolation='nearest')\n",
    "    plt.show()\n",
    "    \n",
    "trainSetSize = getDatasetSize(trainPairFile)\n",
    "valSetSize = getDatasetSize(valPairFile)\n",
    "testSetSize = getDatasetSize(testPairFile)\n",
    "\n",
    "print(\"# pairs in Train set: \", trainSetSize)\n",
    "print(\"# pairs in Val set: \", valSetSize)\n",
    "print(\"# pairs in Test set: \", testSetSize)"
   ]
  },
  {
   "cell_type": "code",
   "execution_count": 3,
   "metadata": {},
   "outputs": [
    {
     "name": "stdout",
     "output_type": "stream",
     "text": [
      "Image1 size:  (28, 28, 3) \t Image2 size:  (28, 28, 3) \t Label: 1\n"
     ]
    },
    {
     "data": {
      "image/png": "[encoded data removed]",
      "text/plain": [
       "<Figure size 360x360 with 2 Axes>"
      ]
     },
     "metadata": {},
     "output_type": "display_data"
    },
    {
     "name": "stdout",
     "output_type": "stream",
     "text": [
      "Image1 size:  (28, 28, 3) \t Image2 size:  (28, 28, 3) \t Label: 1\n"
     ]
    },
    {
     "data": {
      "image/png": "[encoded data removed]",
      "text/plain": [
       "<Figure size 360x360 with 2 Axes>"
      ]
     },
     "metadata": {},
     "output_type": "display_data"
    },
    {
     "name": "stdout",
     "output_type": "stream",
     "text": [
      "Image1 size:  (28, 28, 3) \t Image2 size:  (28, 28, 3) \t Label: 1\n"
     ]
    },
    {
     "data": {
      "image/png": "[encoded data removed]",
      "text/plain": [
       "<Figure size 360x360 with 2 Axes>"
      ]
     },
     "metadata": {},
     "output_type": "display_data"
    },
    {
     "name": "stdout",
     "output_type": "stream",
     "text": [
      "Image1 size:  (28, 28, 3) \t Image2 size:  (28, 28, 3) \t Label: 0\n"
     ]
    },
    {
     "data": {
      "image/png": "[encoded data removed]",
      "text/plain": [
       "<Figure size 360x360 with 2 Axes>"
      ]
     },
     "metadata": {},
     "output_type": "display_data"
    },
    {
     "name": "stdout",
     "output_type": "stream",
     "text": [
      "Image1 size:  (28, 28, 3) \t Image2 size:  (28, 28, 3) \t Label: 0\n"
     ]
    },
    {
     "data": {
      "image/png": "[encoded data removed]",
      "text/plain": [
       "<Figure size 360x360 with 2 Axes>"
      ]
     },
     "metadata": {},
     "output_type": "display_data"
    }
   ],
   "source": [
    "for batch, labels in loadDatasetInBatches(trainPairFile, batch_size=5):\n",
    "    idx = 0\n",
    "    leftBatch, rightBatch = batch\n",
    "    for idx in list(range(leftBatch.shape[0])):\n",
    "        print(\"Image1 size: \", leftBatch[idx].shape, \"\\t\", \"Image2 size: \", rightBatch[idx].shape,\"\\t Label:\", labels[idx])\n",
    "        plotPair(leftBatch[idx], rightBatch[idx])\n",
    "    break"
   ]
  },
  {
   "cell_type": "markdown",
   "metadata": {},
   "source": [
    "# Como o load do dados é feito...  \n",
    "De forma parecida com o que foi feito na Tarefa03, iremos utilizar o método `loadDatasetInBatches(pairFile = trainPairFile, batch_size=32)`. Ele é um generator, ou seja, ele gera um fluxo de batches e labels a partir do nosso dataset.\n",
    "\n",
    "**Argumentos**:\n",
    "- (string) **pairFile**: se refere a qual conjunto de dados que iremos ler (treino, validação ou teste). Recebe um dos arquivos de pares definido anteriormente (trainPairFile, valPairFile, testPairFile);\n",
    "- (int) **batch_size**: quantos pares por batch;\n",
    "\n",
    "**Retorno**: \n",
    "- **batch**: retorna uma lista com 2 arrays numpy (um contendo todas as 1as imagens de cada par e outro contendo as 2as imagens de cada par). **batch** é uma lista de tamanho 2 e cada posição é array numpy com dimensões `(batch_size, 112, 112, 3)` pois são **batch_size** imagens com tamanho 112x112 e 3 canais (RGB);\n",
    "- **labels**: retorna um array do numpy com as labels (1 para \"mesma identidade\" e 0 p/ \"identidades diferentes\");\n",
    "    \n",
    "Utilizando o argumento `pairFile`, o método lê as linhas do arquivo de pares e as embaralha (para garantir que a cada época os batches sejam diferentes). Para cada época (um loop do `for` interno), o método irá carregar um par por vez carregar e pre-processas ambas imagens. A primeira imagem do par será guardada em `leftBatch`, a segunda em `rightBatch` e a label em `labelList`.\n",
    "\n",
    "Quando estas listas estiverem com **batch_size** elementos, teremos gerado um batch. O método dá um yield nas lista [`leftBatch`, `rightBatch`] e na `labelList` e recomeça a construção de um novo batch. Quando o `for` terminar, iremos ter completado uma época. O `while True` apenas garante uma nova época seja iniciada. Quem controlará o fim do `while` vai ser o método que fará o fit, portanto não precisamos nos preocupar com isso.  "
   ]
  },
  {
   "cell_type": "markdown",
   "metadata": {},
   "source": [
    "-----------\n",
    "-----------\n",
    "-----------\n",
    "** -----> A tarefa começa aqui !!! Vocês não precisam modificar nada dos códigos acima!** \n",
    "\n",
    "# Definição da arquitetura siamesa [0.25 pts]\n",
    "- Defina a arquitetura base que será utilizada em cada branch da rede siamesa;\n",
    "- Defina os inputs e conecte-os a arquitetura base;\n",
    "- Calcule a distância euclideana dos outputs de cada branch;"
   ]
  },
  {
   "cell_type": "code",
   "execution_count": 4,
   "metadata": {},
   "outputs": [],
   "source": [
    "#Compute classification accuracy with a fixed threshold on distances.\n",
    "def accuracy(y_true, y_pred):\n",
    "    return K.mean(K.equal(y_true, K.cast(y_pred < 0.5, y_true.dtype)))\n",
    "\n",
    "#Compute the euclidean distance of two arrays\n",
    "def euclidean_distance(vects):\n",
    "    x, y = vects\n",
    "    return K.sqrt(K.maximum(K.sum(K.square(x - y), axis=1, keepdims=True), K.epsilon()))\n",
    "\n",
    "#Plot a pair of images\n",
    "def plotPair(img1, img2):\n",
    "    plt.subplot(1,2,1)\n",
    "    plt.imshow(img1.reshape(28,28), cmap='gray', interpolation='none')\n",
    "    plt.subplot(1,2,2)\n",
    "    plt.imshow(img2.reshape(28,28), cmap='gray', interpolation='none')\n",
    "    plt.show()"
   ]
  },
  {
   "cell_type": "code",
   "execution_count": 35,
   "metadata": {},
   "outputs": [],
   "source": [
    "#Defina sua arquitetura\n",
    "\n",
    "#Modelo 1 (Modelo dado em aula)\n",
    "def create_base_network(input_shape):\n",
    "    input = Input(shape=input_shape)\n",
    "    x = Convolution2D(10, (3,3), activation='relu')(input)\n",
    "    x = MaxPooling2D((2,2))(x)\n",
    "    x = Convolution2D(20, (3,3), activation='relu')(x)\n",
    "    x = MaxPooling2D((2,2))(x)\n",
    "    x = Flatten()(x)\n",
    "    x = Dropout(0.25)(x)\n",
    "    x = Dense(128, activation='relu')(x) # <-------- not the number of classes\n",
    "    return Model(input, x)\n",
    "\n",
    "#Modelo 2 (Modelo dado em aula + dropout maior)\n",
    "def create_base_network2(input_shape):\n",
    "    input = Input(shape=input_shape)\n",
    "    x = Convolution2D(10, (3,3), activation='relu')(input)\n",
    "    x = MaxPooling2D((2,2))(x)\n",
    "    x = Convolution2D(20, (3,3), activation='relu')(x)\n",
    "    x = MaxPooling2D((2,2))(x)\n",
    "    x = Flatten()(x)\n",
    "    x = Dropout(0.5)(x)\n",
    "    x = Dense(128, activation='relu')(x) # <-------- not the number of classes\n",
    "    return Model(input, x)\n",
    "\n",
    "#Modelo 3 (Modelo dado em aula + dobro de camadas de convolution2d para feature selection + dropout 0.5)\n",
    "def create_base_network3(input_shape):\n",
    "    input = Input(shape=input_shape)\n",
    "    x = Convolution2D(10, (3,3), activation='relu')(input)\n",
    "    x = MaxPooling2D((2,2))(x)\n",
    "    x = Convolution2D(20, (3,3), activation='relu')(x)\n",
    "    x = MaxPooling2D((2,2))(x)\n",
    "    x = Convolution2D(10, (3,3), activation='relu')(input)\n",
    "    x = MaxPooling2D((2,2))(x)\n",
    "    x = Convolution2D(20, (3,3), activation='relu')(x)\n",
    "    x = MaxPooling2D((2,2))(x)\n",
    "    x = Flatten()(x)\n",
    "    x = Dropout(0.5)(x)\n",
    "    x = Dense(128, activation='relu')(x) # <-------- not the number of classes\n",
    "    return Model(input, x)\n",
    "\n",
    "#Modelo 4 (Modelo dado em aula + dropout original + camadas para evitar overfit)\n",
    "def create_base_network4(input_shape):\n",
    "    input = Input(shape=input_shape)\n",
    "    x = Convolution2D(10, (3,3), activation='relu')(input)\n",
    "    x = MaxPooling2D((2,2))(x)\n",
    "    x = Convolution2D(20, (3,3), activation='relu')(x)\n",
    "    x = MaxPooling2D((2,2))(x)\n",
    "    x = Flatten()(x)\n",
    "    x = Dropout(0.25)(x)\n",
    "    x = Dense(128, activation='relu')(x) # \n",
    "    x = Dropout(0.25)(x)\n",
    "    x = Dense(64, activation='relu')(x) # <-------- not the number of classes\n",
    "    return Model(input, x)\n",
    "\n",
    "#Modelo 5 (Modelo dado em aula + dropout original + camadas para evitar overfit + batch normalization)\n",
    "def create_base_network5(input_shape):\n",
    "    input = Input(shape=input_shape)\n",
    "    x = Convolution2D(10, (3,3), activation='relu')(input)\n",
    "    x = MaxPooling2D((2,2))(x)\n",
    "    x = Convolution2D(20, (3,3), activation='relu')(x)\n",
    "    x = MaxPooling2D((2,2))(x)\n",
    "    x = Flatten()(x)\n",
    "    x = Dropout(0.25)(x)\n",
    "    x = BatchNormalization()(x)\n",
    "    x = Dense(128, activation='relu')(x) # \n",
    "    x = Dropout(0.25)(x)\n",
    "    x = BatchNormalization()(x)\n",
    "    x = Dense(64, activation='relu')(x) # <-------- not the number of classes\n",
    "    return Model(input, x)"
   ]
  },
  {
   "cell_type": "code",
   "execution_count": 43,
   "metadata": {},
   "outputs": [],
   "source": [
    "# network definition\n",
    "base_network = create_base_network4((input_shape))\n",
    "\n",
    "input_a = Input(shape=input_shape)\n",
    "input_b = Input(shape=input_shape)\n",
    "\n",
    "# because we re-use the same instance `base_network`,\n",
    "# the weights of the network\n",
    "# will be shared across the two branches\n",
    "processed_a = base_network(input_a)\n",
    "processed_b = base_network(input_b)\n",
    "\n",
    "# Calculate the euclidean distance of the two arrays\n",
    "distance = Lambda(euclidean_distance)([processed_a, processed_b])\n",
    "\n",
    "# Define final model\n",
    "model = Model([input_a, input_b], distance)"
   ]
  },
  {
   "cell_type": "markdown",
   "metadata": {},
   "source": [
    "# Treinamento [0.25 pts]\n",
    "- Compile o seu modelo, definindo a contrastive loss e qual o otimizador que será utilizado;\n",
    "- Defina também número de batches e número de épocas;\n",
    "- Treine para obter a maior acurácia que vocês conseguirem;\n",
    "\n",
    "Da mesma forma que na Tarefa03, iremos utilizar o `fit_generator` para otimizar nossa rede. Ele recebe um generator (que será fornecido pelo `loadDatasetInBatches`). Como o generator retorna um fluxo de batches/labels, o `fit_generator` não tem informação sobre o tamanho dataset. Por isso, precisamos informar o número de épocas (parâmetro `epochs`) e também quantos batches compõe uma época (parâmetro `steps_per_epoch`). Ao total, teremos 2 generators, um para o conjunto de treino e outro para o conjunto de validação.\n",
    "\n",
    "Para mais informações sobre o fit_generator e seus parâmetros, [acesse a documentação do Keras](https://keras.io/models/sequential/#fit_generator)."
   ]
  },
  {
   "cell_type": "code",
   "execution_count": 44,
   "metadata": {},
   "outputs": [],
   "source": [
    "#Compile o modelo / Defina a loss \n",
    "def contrastive_loss(y_true, y_pred):\n",
    "    margin = 1\n",
    "    return K.mean(y_true * K.square(y_pred) + (1 - y_true) * K.square(K.maximum(margin - y_pred, 0)))\n",
    "\n",
    "# Compilation\n",
    "model.compile(Adam(lr=0.001), loss=contrastive_loss , metrics=[accuracy]) "
   ]
  },
  {
   "cell_type": "code",
   "execution_count": 45,
   "metadata": {},
   "outputs": [
    {
     "name": "stdout",
     "output_type": "stream",
     "text": [
      "Epoch 1/1\n",
      "3833/3833 [==============================] - 2638s 688ms/step - loss: 0.0600 - accuracy: 0.9275 - val_loss: 0.1818 - val_accuracy: 0.7317\n",
      "CPU times: user 52min 42s, sys: 2min 25s, total: 55min 8s\n",
      "Wall time: 43min 58s\n"
     ]
    }
   ],
   "source": [
    "%%time\n",
    "\n",
    "#Definir tamanho do batch e número de épocas\n",
    "batch_size = 64\n",
    "epochs = 1\n",
    "\n",
    "#Criação dos generators\n",
    "trainGenerator = loadDatasetInBatches(trainPairFile, batch_size = batch_size)\n",
    "valGenerator = loadDatasetInBatches(valPairFile, batch_size = batch_size)\n",
    "\n",
    "#Fit nos dados\n",
    "model.fit_generator(trainGenerator, \n",
    "                    steps_per_epoch= int(trainSetSize / batch_size), \n",
    "                    epochs = epochs,\n",
    "                    validation_data = valGenerator,  \n",
    "                    validation_steps = int(valSetSize / batch_size))"
   ]
  },
  {
   "cell_type": "markdown",
   "metadata": {},
   "source": [
    "# Teste [0.25 pts]\n",
    "O teste será feito da mesma forma, utilizando `loadDatasetInBatches` para o conjunto de teste. "
   ]
  },
  {
   "cell_type": "code",
   "execution_count": 46,
   "metadata": {},
   "outputs": [
    {
     "name": "stdout",
     "output_type": "stream",
     "text": [
      "297/297 [==============================] - 164s 553ms/step\n",
      "Test Loss --->  0.1753698051076144\n",
      "Test Accuracy --->  0.7498421717171717\n"
     ]
    }
   ],
   "source": [
    "#Criação do generator p/ o conjunto de teste\n",
    "testGenerator = loadDatasetInBatches(testPairFile, batch_size=batch_size)\n",
    "\n",
    "#Teste\n",
    "metrics = model.evaluate_generator(testGenerator, \n",
    "                                   steps=int(testSetSize/batch_size), \n",
    "                                   verbose=1)\n",
    "\n",
    "print(\"Test Loss ---> \", metrics[0])\n",
    "print(\"Test Accuracy ---> \", metrics[1])    #Test is balanced, so Acc is normalized"
   ]
  },
  {
   "cell_type": "markdown",
   "metadata": {},
   "source": [
    "# Conclusões  [0.25 pts]\n",
    "Escreva um parágrafo com as conclusões que você tirou na tarefa. Comente as dificuldades encontradas, as tentativas feitas, como foi o seu treinamento, apontando a motivação pelas decisões tomadas. Se o resultado ficou melhor/pior do que o que você esperava, o que você acha que pode ter acontecido?"
   ]
  },
  {
   "cell_type": "code",
   "execution_count": null,
   "metadata": {},
   "outputs": [],
   "source": [
    "# ALUNOS:\n",
    "    Felipe Pereira\n",
    "    Anderson Rocha\n",
    "    \n",
    "#TREINAMENTO E TESTE:\n",
    "    Execução 1) Modelo: 1 - Batch Size: 32 - Epoch: 1 - Optimizer: Adam - LR: 0.001 (default) - \n",
    "        TRAIN:\n",
    "            Epoch 1/1\n",
    "            7665/7666 [============================>.] - ETA: 0s - loss: 0.0458 - accuracy: 0.9529\n",
    "            \n",
    "        TEST:\n",
    "            Test Loss --->  0.12840151851400983\n",
    "            Test Accuracy --->  0.8243371212121212\n",
    "            \n",
    "    Execução 2) Modelo: 2 - Batch Size: 32 - Epoch: 1 - Optimizer: Adam - LR: 0.001 (default) - \n",
    "        TRAIN:\n",
    "            Epoch 1/1\n",
    "            7666/7666 [==============================] - 2411s 315ms/step - loss: 0.0771 - accuracy: 0.9070 - val_loss: 0.2829 - val_accuracy: 0.5616\n",
    "                \n",
    "        TEST:\n",
    "            Test Loss --->  0.15076245594556484\n",
    "            Test Accuracy --->  0.7751999158249159\n",
    "            \n",
    "    Execução 3) Modelo: 3 - Batch Size: 32 - Epoch: 1 - Optimizer: Adam - LR: 0.001 (default) - \n",
    "        TRAIN:\n",
    "            Epoch 1/1\n",
    "            7666/7666 [==============================] - 2649s 346ms/step - loss: 0.0750 - accuracy: 0.9090 - val_loss: 0.2925 - val_accuracy: 0.5505\n",
    "                            \n",
    "        TEST:\n",
    "            594/594 [==============================] - 163s 274ms/step\n",
    "            Test Loss --->  0.16258305533215253\n",
    "            Test Accuracy --->  0.751578282828282\n",
    "            \n",
    "    \n",
    "    Execução 4) Modelo: 4 - Batch Size: 32 - Epoch: 1 - Optimizer: Adam - LR: 0.001 (default) - \n",
    "        TRAIN:\n",
    "            Epoch 1/1\n",
    "            7666/7666 [==============================] - 2488s 325ms/step - loss: 0.0542 - accuracy: 0.9340 - val_loss: 0.2481 - val_accuracy: 0.6656\n",
    "                            \n",
    "        TEST:\n",
    "            Test Loss --->  0.1120490435548503\n",
    "            Test Accuracy --->  0.8539036195286195\n",
    "            \n",
    "    Execução 5) Modelo: 4 - Batch Size: 32 - Epoch: 1 - Optimizer: Adam - LR: 0.0001 (alterado) - \n",
    "        TRAIN:\n",
    "            Epoch 1/1\n",
    "            7666/7666 [==============================] - 2419s 316ms/step - loss: 0.0187 - accuracy: 0.9839 - val_loss: 0.2680 - val_accuracy: 0.6595\n",
    "                            \n",
    "        TEST:\n",
    "            Test Loss --->  0.10793831544028287\n",
    "            Test Accuracy --->  0.8507996632996633\n",
    "            \n",
    "    Execução 6) Modelo: 5 - Batch Size: 32 - Epoch: 1 - Optimizer: Adam - LR: 0.001 (alterado) - \n",
    "        TRAIN:\n",
    "            Epoch 1/1\n",
    "            7666/7666 [==============================] - 2503s 327ms/step - loss: 0.3555 - accuracy: 0.8208 - val_loss: 0.2671 - val_accuracy: 0.6322\n",
    "        \n",
    "        TEST:\n",
    "            Test Loss --->  0.23225650482306176\n",
    "            Test Accuracy --->  0.631523569023569\n",
    "            \n",
    "    Execução 7) Modelo: 5 - Batch Size: 64 (alterado) - Epoch: 1 - Optimizer: Adam - LR: 0.001 -\n",
    "        TRAIN:\n",
    "            Epoch 1/1\n",
    "            3833/3833 [==============================] - 2638s 688ms/step - loss: 0.0600 - accuracy: 0.9275 - val_loss: 0.1818 - val_accuracy: 0.7317\n",
    "                            \n",
    "        TEST:\n",
    "            Test Loss --->  0.1753698051076144\n",
    "            Test Accuracy --->  0.7498421717171717\n",
    "            \n",
    "#ANÁLISE:\n",
    "    Foi identificado um overfit no primeiro teste, para o segundo teste aumentamos a taxa de dropout para tentar diminuir o overfit.\n",
    "    \n",
    "    No segundo teste a acurácia diminuiu, mas o comportamento de overfit se manteve. No modelo 3 estamos testando mais camadas de feature selection para verificar o impacto sobre o modelo. \n",
    "    \n",
    "    O modelo 4 possui mais camadas de regularização para diminuir o overfit. O modelo 4 foi o melhor dos modelos testados pois, além de ter a melhor acurácia em teste (85%), ele também diminuiu a diferença de acurácia entre treinamento e teste. Esta diferença era de 13% no primeiro modelo e caiu para 8% no Modelo 4.\n",
    "    \n",
    "    Também foi tentado o uso de batchnormalization para regularização no Modelo 5. O problema de overfit diminuiu, mas a acurácia caiu muito, tanto em treinamento quanto em teste.\n",
    "    \n",
    "    Foram iniciados os testes com os hiperparâmetros.\n",
    "    \n",
    "    Testando a alteração de LR do Adam de 0.001 para 0.0001: Gerou um overfit muito grande, com 98% de acurácia em treino e 85% em teste. Houve aumento do gap entre acurácia de treinamento e teste, porém sem um aumento em relação ao teste anterior, mais satisfatório e com menos overfit.\n",
    "        \n",
    "    Testando a alteração do tamanho do BatchSize de 32 para 64: O problema do overfit ficou maior, com uma acurácia de 92% em treinamento e 74% em teste.\n",
    "    \n",
    "    A melhor combinação acabou sendo o Modelo 4 (que possui camadas explicitamente colocadas para tentar diminuir o overfit), com um LR de 0.001 no otimizador Adam e batchsize de 32. "
   ]
  }
 ],
 "metadata": {
  "kernelspec": {
   "display_name": "Python 3",
   "language": "python",
   "name": "python3"
  },
  "language_info": {
   "codemirror_mode": {
    "name": "ipython",
    "version": 3
   },
   "file_extension": ".py",
   "mimetype": "text/x-python",
   "name": "python",
   "nbconvert_exporter": "python",
   "pygments_lexer": "ipython3",
   "version": "3.5.2"
  }
 },
 "nbformat": 4,
 "nbformat_minor": 2
}
