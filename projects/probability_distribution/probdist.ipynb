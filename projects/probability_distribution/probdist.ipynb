{
 "cells": [
  {
   "cell_type": "code",
   "execution_count": 1,
   "metadata": {
    "collapsed": true
   },
   "outputs": [],
   "source": [
    "%matplotlib inline"
   ]
  },
  {
   "cell_type": "markdown",
   "metadata": {},
   "source": [
    "# Distribuição de Probabilidade"
   ]
  },
  {
   "cell_type": "markdown",
   "metadata": {},
   "source": [
    "### Introdução\n",
    "\n",
    "Neste tutorial você vai:\n",
    "\n",
    "- Aprender alguns jargões de probabilidade\n",
    "- Aprender diferentes tipos de distribuição de probabilidade\n",
    "- Aprender a criar e plotar estas distribuições em Python"
   ]
  },
  {
   "cell_type": "markdown",
   "metadata": {},
   "source": [
    "### Variável aleatória discreta\n",
    "\n",
    "Uma variável aleatória é uma variável cujos valores numéricos são representações de fenômenos aleatórios. Existem dois tipos de variáveis aleatórias:\n",
    "\n",
    "Uma **variável aleatória discreta** é uma variável que assume valores distintos e limitados. Um exemplo é uma variável X que representa os valores de lançamento de um dado, neste cenário X representa os valores [1, 2, 3, 4, 5, 6].\n",
    "\n",
    "A **distribuição de probabilidade** de uma variável discreta é uma **lista de probabilidades** associada a cada possível valor da variável discreta.\n",
    "\n",
    "Sendo *pi* a probilidade de *X=xi*, temos que *P(X=xi) = pi*, com *pi* tendo que respeitar duas condições:\n",
    "\n",
    "Primeira condição:\n",
    "0 < *pi* < 1 para cada *i*\n",
    "\n",
    "Segunda condição:\n",
    "p1 + p2 + ... + pn = 1\n",
    "\n",
    "Exemplo:"
   ]
  },
  {
   "cell_type": "code",
   "execution_count": 2,
   "metadata": {},
   "outputs": [
    {
     "data": {
      "text/plain": [
       "0.16666666666666666"
      ]
     },
     "execution_count": 2,
     "metadata": {},
     "output_type": "execute_result"
    }
   ],
   "source": [
    "#Primeira condição: P(X=1) = p1\n",
    "p1 = 1/6\n",
    "\n",
    "p1"
   ]
  },
  {
   "cell_type": "code",
   "execution_count": 3,
   "metadata": {},
   "outputs": [
    {
     "data": {
      "text/plain": [
       "0.9999999999999999"
      ]
     },
     "execution_count": 3,
     "metadata": {},
     "output_type": "execute_result"
    }
   ],
   "source": [
    "#Segunda condição: p1 + p2 + p3 + p4 + p5 + p6 = 1\n",
    "p1 = 1/6\n",
    "p2 = 1/6\n",
    "p3 = 1/6\n",
    "p4 = 1/6\n",
    "p5 = 1/6\n",
    "p6 = 1/6\n",
    "\n",
    "R = p1 + p2 + p3 + p4 + p5 + p6\n",
    "\n",
    "R"
   ]
  },
  {
   "cell_type": "markdown",
   "metadata": {},
   "source": [
    "### Variável aleatória contínua\n",
    "\n",
    "Uma **variável aleatória contínua** assume uma quantidade infinita de valores numéricos. Por exemplo: uma variável X que assume a altura, em centímetros, das pessoas.\n",
    "\n",
    "A **distribuição de probabilidade** de uma variável aleatória contínua é uma **função de distribuição de probablidade**. A probabilidade de se observar qualquer valor específico é de 0, já que a função pode assumir valores infinitos. Portanto, a probabilidade de *X* estar em um conjunto de valores *A* é representada por *P(A)* e pela **área abaixo da curva**.\n",
    "\n",
    "A curva que representa *p(x)* é dada por:\n",
    "\n",
    "Primeira condição:\n",
    "A curva não possui valores negativos, portanto, *p(x) > 0, para todo x*\n",
    "\n",
    "Segundação condição:\n",
    "A área total abaixo da curva é igual a 1.\n",
    "\n",
    "Esta curva também pode receber o nome de **curva de densidade**.\n",
    "\n",
    "Veremos exemplos ao longo do notebook."
   ]
  },
  {
   "cell_type": "markdown",
   "metadata": {},
   "source": [
    "### Bibliotecas Python\n",
    "\n",
    "Vamos agora importar algumas bibliotecas necessárias ao nosso trabalho."
   ]
  },
  {
   "cell_type": "code",
   "execution_count": 4,
   "metadata": {
    "collapsed": true
   },
   "outputs": [],
   "source": [
    "# import matplotlib\n",
    "import matplotlib.pyplot as plt\n",
    "\n",
    "# for latex equations\n",
    "from IPython.display import Math, Latex\n",
    "\n",
    "# for displaying images\n",
    "from IPython.core.display import Image"
   ]
  },
  {
   "cell_type": "code",
   "execution_count": 5,
   "metadata": {
    "collapsed": true
   },
   "outputs": [],
   "source": [
    "# import seaborn\n",
    "import seaborn as sns\n",
    "# settings for seaborn plotting style\n",
    "sns.set(color_codes=True)\n",
    "# settings for seaborn plot sizes\n",
    "sns.set(rc={'figure.figsize':(5,5)})"
   ]
  },
  {
   "cell_type": "markdown",
   "metadata": {},
   "source": [
    "## Tipos de distribuição probabilística\n",
    "\n",
    "Veremos, agora, alguns tipos de distribuição."
   ]
  },
  {
   "cell_type": "markdown",
   "metadata": {},
   "source": [
    "### 1. Distribuição Uniforme\n",
    "\n",
    "Provavelmente a distribuição mais simples. Nela, todas as possibilidades possuem a mesma probabilidade de acontecer, sendo assim, a distribuição é graficamente um retângulo:\n",
    "\n",
    "![alt text](images/uniform_graph.png)\n",
    "\n",
    "\n",
    "E é definida matematicamente pela seguinte função:\n",
    "![alt text](images/uniform_formula.png)\n",
    "\n",
    "\n",
    "Vamos verificar como criar esta distribuição em Python:"
   ]
  },
  {
   "cell_type": "code",
   "execution_count": 10,
   "metadata": {
    "collapsed": true
   },
   "outputs": [],
   "source": [
    "#Biblioteca para geração de dados uniformes\n",
    "from scipy.stats import uniform\n",
    "\n",
    "#Definição dos parâmetros da função de geração de dados uniformes\n",
    "n = 1000\n",
    "start = 10\n",
    "width = 20\n",
    "random_state=42\n",
    "data_uniform = uniform.rvs(size=n, loc=start, scale=width, random_state=random_state)"
   ]
  },
  {
   "cell_type": "code",
   "execution_count": 12,
   "metadata": {},
   "outputs": [
    {
     "data": {
      "text/plain": [
       "[Text(0,0.5,'Frequency'), Text(0.5,0,'Uniform Distribution')]"
      ]
     },
     "execution_count": 12,
     "metadata": {},
     "output_type": "execute_result"
    },
    {
     "data": {
      "image/png": "[encoded data removed]",
      "text/plain": [
       "<matplotlib.figure.Figure at 0x7f631deb5d30>"
      ]
     },
     "metadata": {},
     "output_type": "display_data"
    }
   ],
   "source": [
    "#Agora vamos plotar os dados\n",
    "ax = sns.distplot(\n",
    "    data_uniform,\n",
    "    bins=10,\n",
    "    kde=True,\n",
    "    color='skyblue',\n",
    "    hist_kws={'linewidth': 15, 'alpha': 1}\n",
    ")\n",
    "\n",
    "ax.set(xlabel='Uniform Distribution', ylabel='Frequency')"
   ]
  },
  {
   "cell_type": "markdown",
   "metadata": {},
   "source": [
    "### Distribuição Normal (Gaussiana)\n",
    "\n",
    "A distribuição Normal é muito utilizada em Ciência de Dados. \n",
    "\n",
    "Sua curva de densidade possui o formato de um sino, sendo que o meio da curva representa a média da distribuição e sua abertura representa o desvio padrão a partir da média. Ela é uma curva simétrica:\n",
    "\n",
    "![alt text](images/normal_graph.png)\n",
    "\n",
    "\n",
    "Um aspecto importate desta distribuição é que podemos estar certos de que:\n",
    "- 68,26% das amostras encontram-se a até 1 desvio padrão da média\n",
    "- 95,44% das amostras encontram-se a até 2 desvios padrão da média\n",
    "- 99,73% das amostras encontram-se a até 3 desvios padrão da média\n",
    "\n",
    "Sua definição matemática é dada por:\n",
    "![alt text](images/normal_formula.png)\n",
    "\n",
    "\n",
    "Vamos criar uma amostra com distribuição normal e plotá-la:"
   ]
  },
  {
   "cell_type": "code",
   "execution_count": 13,
   "metadata": {
    "collapsed": true
   },
   "outputs": [],
   "source": [
    "#Biblioteca para geração de dados com distribuição normal\n",
    "from scipy.stats import norm\n",
    "\n",
    "#Criação de 1000 números aleatórios entre 0 e 1\n",
    "size = 1000\n",
    "start = 0\n",
    "stop = 1\n",
    "data_normal = norm.rvs(size=size, loc=start, scale=1)"
   ]
  },
  {
   "cell_type": "code",
   "execution_count": 19,
   "metadata": {},
   "outputs": [
    {
     "data": {
      "text/plain": [
       "[Text(0,0.5,'Frequency'), Text(0.5,0,'Normal Distribution')]"
      ]
     },
     "execution_count": 19,
     "metadata": {},
     "output_type": "execute_result"
    },
    {
     "data": {
      "image/png": "[encoded data removed]",
      "text/plain": [
       "<matplotlib.figure.Figure at 0x7f631d9fb470>"
      ]
     },
     "metadata": {},
     "output_type": "display_data"
    }
   ],
   "source": [
    "ax = sns.distplot(\n",
    "    data_normal,\n",
    "    kde=True,\n",
    "    color='red',\n",
    "    hist_kws={'linewidth': 15, 'alpha': 1}\n",
    ")\n",
    "\n",
    "ax.set(xlabel='Normal Distribution', ylabel='Frequency')"
   ]
  },
  {
   "cell_type": "markdown",
   "metadata": {},
   "source": [
    "### Estatísticas da distribuição\n",
    "\n",
    "Verificando as estatísticas da distribuição:"
   ]
  },
  {
   "cell_type": "code",
   "execution_count": null,
   "metadata": {
    "collapsed": true
   },
   "outputs": [],
   "source": [
    "import numpy as np"
   ]
  },
  {
   "cell_type": "code",
   "execution_count": 57,
   "metadata": {},
   "outputs": [
    {
     "name": "stdout",
     "output_type": "stream",
     "text": [
      "Média:  19.8051\n",
      "Mediana:  19.9361\n",
      "Desvio padrão:   5.8398\n",
      "Variância:  34.1036\n"
     ]
    }
   ],
   "source": [
    "#Média\n",
    "print(\"Média: {0:8.4f}\".format(data_uniform.mean()))\n",
    "\n",
    "#Mediana\n",
    "print(\"Mediana: {0:8.4f}\".format(np.median(data_uniform)))\n",
    "\n",
    "#Desvio padrão\n",
    "print(\"Desvio padrão: {0:8.4f}\".format(np.std(data_uniform)))\n",
    "\n",
    "#Variância\n",
    "print(\"Variância: {0:8.4f}\".format(np.var(data_uniform)))"
   ]
  },
  {
   "cell_type": "code",
   "execution_count": 58,
   "metadata": {},
   "outputs": [
    {
     "name": "stdout",
     "output_type": "stream",
     "text": [
      "Média:  -0.0221\n",
      "Mediana:  -0.0280\n",
      "Desvio padrão:   0.9708\n",
      "Variância:   0.9424\n"
     ]
    }
   ],
   "source": [
    "#Média\n",
    "print(\"Média: {0:8.4f}\".format(data_normal.mean()))\n",
    "\n",
    "#Mediana\n",
    "print(\"Mediana: {0:8.4f}\".format(np.median(data_normal)))\n",
    "\n",
    "#Desvio padrão\n",
    "print(\"Desvio padrão: {0:8.4f}\".format(np.std(data_normal)))\n",
    "\n",
    "#Variância\n",
    "print(\"Variância: {0:8.4f}\".format(np.var(data_normal)))"
   ]
  },
  {
   "cell_type": "markdown",
   "metadata": {},
   "source": [
    "### Distribuição Gama\n",
    "\n",
    "A distribuição Gama é composta por 2 parâmetros (*alpha* e *beta*) e é um tipo de distribuição da qual fazem parte as distribuições: exponencial, chi-quadrado, erlang, etc.\n",
    "\n",
    "Sua definição matemática é dada por:\n",
    "![alt text](images/gama_formula.png)\n",
    "\n",
    "Uma distribuição gama típica se parece com:\n",
    "![alt text](images/gama_graph.png)\n",
    "\n",
    "\n",
    "Agora vamos verificar sua implementação:"
   ]
  },
  {
   "cell_type": "code",
   "execution_count": 27,
   "metadata": {
    "collapsed": true
   },
   "outputs": [],
   "source": [
    "from scipy.stats import gamma\n",
    "data_gamma = gamma.rvs(a=5, size=10000, random_state=42)"
   ]
  },
  {
   "cell_type": "code",
   "execution_count": 28,
   "metadata": {},
   "outputs": [
    {
     "data": {
      "text/plain": [
       "[Text(0,0.5,'Frequency'), Text(0.5,0,'Gamma Distribution')]"
      ]
     },
     "execution_count": 28,
     "metadata": {},
     "output_type": "execute_result"
    },
    {
     "data": {
      "image/png": "[encoded data removed]",
      "text/plain": [
       "<matplotlib.figure.Figure at 0x7f631dc12940>"
      ]
     },
     "metadata": {},
     "output_type": "display_data"
    }
   ],
   "source": [
    "ax = sns.distplot(data_gamma,\n",
    "                  kde=True,\n",
    "                  bins=100,\n",
    "                  color='green',\n",
    "                  hist_kws={\"linewidth\": 15,'alpha':1})\n",
    "ax.set(xlabel='Gamma Distribution', ylabel='Frequency')"
   ]
  },
  {
   "cell_type": "markdown",
   "metadata": {},
   "source": [
    "### Estatísticas da distribuição\n",
    "\n",
    "Verificando as estatísticas da distribuição:"
   ]
  },
  {
   "cell_type": "code",
   "execution_count": 56,
   "metadata": {},
   "outputs": [
    {
     "name": "stdout",
     "output_type": "stream",
     "text": [
      "Média:  -0.0221\n",
      "Mediana:  -0.0280\n",
      "Desvio padrão:   0.9708\n",
      "Variância:   0.9424\n"
     ]
    }
   ],
   "source": [
    "#Média\n",
    "print(\"Média: {0:8.4f}\".format(data_normal.mean()))\n",
    "\n",
    "#Mediana\n",
    "print(\"Mediana: {0:8.4f}\".format(np.median(data_normal)))\n",
    "\n",
    "#Desvio padrão\n",
    "print(\"Desvio padrão: {0:8.4f}\".format(np.std(data_normal)))\n",
    "\n",
    "#Variância\n",
    "print(\"Variância: {0:8.4f}\".format(np.var(data_normal)))"
   ]
  },
  {
   "cell_type": "code",
   "execution_count": 55,
   "metadata": {},
   "outputs": [
    {
     "name": "stdout",
     "output_type": "stream",
     "text": [
      "Média:   5.0354\n",
      "Mediana:   4.7006\n",
      "Desvio padrão:   2.2190\n",
      "Variância:   4.9241\n"
     ]
    }
   ],
   "source": [
    "#Média\n",
    "print(\"Média: {0:8.4f}\".format(data_gamma.mean()))\n",
    "\n",
    "#Mediana\n",
    "print(\"Mediana: {0:8.4f}\".format(np.median(data_gamma)))\n",
    "\n",
    "#Desvio padrão\n",
    "print(\"Desvio padrão: {0:8.4f}\".format(np.std(data_gamma)))\n",
    "\n",
    "#Variância\n",
    "print(\"Variância: {0:8.4f}\".format(np.var(data_gamma)))"
   ]
  },
  {
   "cell_type": "markdown",
   "metadata": {},
   "source": [
    "### Distribuição Exponencial\n",
    "\n",
    "A distribuição exponencial descreve eventos que são afetados por uma taxa determinada pelo expoente x na fórmula:\n",
    "\n",
    "![alt text](images/exponential_formula.png)\n",
    "\n",
    "\n",
    "Por causa do efeito exponencial, uma curva decrescente se parecerá com:\n",
    "\n",
    "![alt text](images/exponential_graph.png)\n",
    "\n",
    "\n",
    "Para simularmos esta distribuição em Python, execute o código abaixo:"
   ]
  },
  {
   "cell_type": "code",
   "execution_count": 59,
   "metadata": {
    "collapsed": true
   },
   "outputs": [],
   "source": [
    "from scipy.stats import expon\n",
    "data_expon = expon.rvs(scale=1, loc=0, size=1000)"
   ]
  },
  {
   "cell_type": "code",
   "execution_count": 62,
   "metadata": {},
   "outputs": [
    {
     "data": {
      "text/plain": [
       "[Text(0,0.5,'Frequency'), Text(0.5,0,'Exponential Distribution')]"
      ]
     },
     "execution_count": 62,
     "metadata": {},
     "output_type": "execute_result"
    },
    {
     "data": {
      "image/png": "[encoded data removed]",
      "text/plain": [
       "<matplotlib.figure.Figure at 0x7f631c863ba8>"
      ]
     },
     "metadata": {},
     "output_type": "display_data"
    }
   ],
   "source": [
    "#Agora vamos plotar os dados\n",
    "ax = sns.distplot(\n",
    "    data_expon,\n",
    "    kde=True,\n",
    "    bins=10,\n",
    "    color='skyblue',\n",
    "    hist_kws={'linewidth': 15, 'alpha': 1}\n",
    ")\n",
    "\n",
    "ax.set(xlabel='Exponential Distribution', ylabel='Frequency')"
   ]
  },
  {
   "cell_type": "markdown",
   "metadata": {},
   "source": [
    "### Estatísticas da distribuição\n",
    "\n",
    "Verificando as estatísticas da distribuição:"
   ]
  },
  {
   "cell_type": "code",
   "execution_count": 63,
   "metadata": {},
   "outputs": [
    {
     "name": "stdout",
     "output_type": "stream",
     "text": [
      "Média:  -0.0221\n",
      "Mediana:  -0.0280\n",
      "Desvio padrão:   0.9708\n",
      "Variância:   0.9424\n"
     ]
    }
   ],
   "source": [
    "#Média\n",
    "print(\"Média: {0:8.4f}\".format(data_normal.mean()))\n",
    "\n",
    "#Mediana\n",
    "print(\"Mediana: {0:8.4f}\".format(np.median(data_normal)))\n",
    "\n",
    "#Desvio padrão\n",
    "print(\"Desvio padrão: {0:8.4f}\".format(np.std(data_normal)))\n",
    "\n",
    "#Variância\n",
    "print(\"Variância: {0:8.4f}\".format(np.var(data_normal)))"
   ]
  },
  {
   "cell_type": "code",
   "execution_count": 64,
   "metadata": {},
   "outputs": [
    {
     "name": "stdout",
     "output_type": "stream",
     "text": [
      "Média:   0.9496\n",
      "Mediana:   0.6589\n",
      "Desvio padrão:   0.9362\n",
      "Variância:   0.8765\n"
     ]
    }
   ],
   "source": [
    "#Média\n",
    "print(\"Média: {0:8.4f}\".format(data_expon.mean()))\n",
    "\n",
    "#Mediana\n",
    "print(\"Mediana: {0:8.4f}\".format(np.median(data_expon)))\n",
    "\n",
    "#Desvio padrão\n",
    "print(\"Desvio padrão: {0:8.4f}\".format(np.std(data_expon)))\n",
    "\n",
    "#Variância\n",
    "print(\"Variância: {0:8.4f}\".format(np.var(data_expon)))"
   ]
  },
  {
   "cell_type": "markdown",
   "metadata": {},
   "source": [
    "### Distribuição Binomial\n",
    "\n",
    "Uma distribuição onde apenas dois outputs são possíveis (ex.: sucesso ou falha, perda ou ganho, vitória ou derrota, etc) e onde a probabilidade de cada opção é a mesma em todas as tentativas é chamada de Distribuição Binomial.\n",
    "\n",
    "É importante ressaltar que, embora as probabilidades sejam iguais, os resultados não precisam ser proporcionalmente distribuídos, mesmo levando em conta a independência de cada rodada.\n",
    "\n",
    "Os parâmetros de uma Distribuição Binomial são *n* que indica a quantidade de jogadas/rodadas e *p* que indica a probabilidade de sucesso de cada uma. A função de probabilidade é dada por:\n",
    "\n",
    "![alt text](images/binomial_formula.png)\n",
    "\n",
    "\n",
    "Agora vamos gerar esta distribuição:"
   ]
  },
  {
   "cell_type": "code",
   "execution_count": 66,
   "metadata": {
    "collapsed": true
   },
   "outputs": [],
   "source": [
    "from scipy.stats import binom\n",
    "data_binom = binom.rvs(n=10,p=0.8,size=10000)"
   ]
  },
  {
   "cell_type": "code",
   "execution_count": 67,
   "metadata": {},
   "outputs": [
    {
     "data": {
      "text/plain": [
       "[Text(0,0.5,'Frequency'), Text(0.5,0,'Binomial Distribution')]"
      ]
     },
     "execution_count": 67,
     "metadata": {},
     "output_type": "execute_result"
    },
    {
     "data": {
      "image/png": "[encoded data removed]",
      "text/plain": [
       "<matplotlib.figure.Figure at 0x7f631c503b00>"
      ]
     },
     "metadata": {},
     "output_type": "display_data"
    }
   ],
   "source": [
    "ax = sns.distplot(data_binom,\n",
    "                  kde=False,\n",
    "                  color='skyblue',\n",
    "                  hist_kws={\"linewidth\": 15,'alpha':1})\n",
    "ax.set(xlabel='Binomial Distribution', ylabel='Frequency')"
   ]
  },
  {
   "cell_type": "markdown",
   "metadata": {},
   "source": [
    "### Estatísticas da distribuição\n",
    "\n",
    "Verificando as estatísticas da distribuição:"
   ]
  },
  {
   "cell_type": "code",
   "execution_count": 68,
   "metadata": {},
   "outputs": [
    {
     "name": "stdout",
     "output_type": "stream",
     "text": [
      "Média:  -0.0221\n",
      "Mediana:  -0.0280\n",
      "Desvio padrão:   0.9708\n",
      "Variância:   0.9424\n"
     ]
    }
   ],
   "source": [
    "#Média\n",
    "print(\"Média: {0:8.4f}\".format(data_normal.mean()))\n",
    "\n",
    "#Mediana\n",
    "print(\"Mediana: {0:8.4f}\".format(np.median(data_normal)))\n",
    "\n",
    "#Desvio padrão\n",
    "print(\"Desvio padrão: {0:8.4f}\".format(np.std(data_normal)))\n",
    "\n",
    "#Variância\n",
    "print(\"Variância: {0:8.4f}\".format(np.var(data_normal)))"
   ]
  },
  {
   "cell_type": "code",
   "execution_count": 69,
   "metadata": {},
   "outputs": [
    {
     "name": "stdout",
     "output_type": "stream",
     "text": [
      "Média:   7.9931\n",
      "Mediana:   8.0000\n",
      "Desvio padrão:   1.2608\n",
      "Variância:   1.5897\n"
     ]
    }
   ],
   "source": [
    "#Média\n",
    "print(\"Média: {0:8.4f}\".format(data_binom.mean()))\n",
    "\n",
    "#Mediana\n",
    "print(\"Mediana: {0:8.4f}\".format(np.median(data_binom)))\n",
    "\n",
    "#Desvio padrão\n",
    "print(\"Desvio padrão: {0:8.4f}\".format(np.std(data_binom)))\n",
    "\n",
    "#Variância\n",
    "print(\"Variância: {0:8.4f}\".format(np.var(data_binom)))"
   ]
  }
 ],
 "metadata": {
  "kernelspec": {
   "display_name": "Python 3",
   "language": "python",
   "name": "python3"
  },
  "language_info": {
   "codemirror_mode": {
    "name": "ipython",
    "version": 3
   },
   "file_extension": ".py",
   "mimetype": "text/x-python",
   "name": "python",
   "nbconvert_exporter": "python",
   "pygments_lexer": "ipython3",
   "version": "3.6.3"
  }
 },
 "nbformat": 4,
 "nbformat_minor": 2
}
